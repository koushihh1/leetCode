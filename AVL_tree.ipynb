{
 "cells": [
  {
   "cell_type": "code",
   "execution_count": 58,
   "metadata": {},
   "outputs": [],
   "source": [
    "class TreeNode:\r\n",
    "    def __init__(self,val=None,left=None,right=None,height=0):\r\n",
    "        self.val=val\r\n",
    "        self.left=left\r\n",
    "        self.right=right\r\n",
    "        self.height=height\r\n",
    "    \r\n",
    "\r\n",
    "class AVL_TREE:\r\n",
    "    def __init__(self, root_node=None):\r\n",
    "        self.tree_root=root_node\r\n",
    "    \r\n",
    "    def getHeight(self,root):\r\n",
    "        if not root:\r\n",
    "            return 0\r\n",
    "        else:\r\n",
    "            left_height=self.getHeight(root.left)\r\n",
    "            right_height=self.getHeight(root.right)\r\n",
    "            return max(left_height,right_height)+1\r\n",
    "\r\n",
    "    def LL_Rotation(self,A):\r\n",
    "        B=A.left\r\n",
    "        A.left=B.right\r\n",
    "        B.right=A\r\n",
    "        A.height=max(self.getHeight(A.right),self.getHeight(A.left))+1\r\n",
    "        B.height=max(self.getHeight(B.left),A.height)+1\r\n",
    "        return B\r\n",
    "    \r\n",
    "    def RR_Rotation(self,A):\r\n",
    "        B=A.right\r\n",
    "        A.right=B.left\r\n",
    "        B.left=A\r\n",
    "        A.height=max(self.getHeight(A.right),self.getHeight(A.left))+1\r\n",
    "        B.height=max(self.getHeight(B.right),A.height)+1\r\n",
    "        return B\r\n",
    "    \r\n",
    "    def LR_Rotation(self,A):\r\n",
    "        A.left=self.RR_Rotation(A.left)\r\n",
    "        return self.LL_Rotation(A)\r\n",
    "\r\n",
    "    def RL_Rotation(self,A):\r\n",
    "        A.right=self.LL_Rotation(A.right)\r\n",
    "        return self.RR_Rotation(A)\r\n",
    "        \r\n",
    "\r\n",
    "    def insertNode(self,val,root=None):\r\n",
    "        \r\n",
    "        if not root:\r\n",
    "            root=TreeNode(val)\r\n",
    "            if not self.tree_root:\r\n",
    "                self.tree_root=root\r\n",
    "        else:\r\n",
    "            if val<root.val:\r\n",
    "                #在当前节点的左子树上插入\r\n",
    "                root.left=self.insertNode(val,root.left)\r\n",
    "                #左子树高度-右子树高度==2，失衡，调整\r\n",
    "                if self.getHeight(root.left)-self.getHeight(root.right)==2:\r\n",
    "                    #破坏者在当前节点的左子树的左子树-->LL\r\n",
    "                    if val<root.left.val:\r\n",
    "                        root=self.LL_Rotation(root)\r\n",
    "                    #破坏者在当前节点的左子树的右子树-->LR\r\n",
    "                    elif val>root.left.val:\r\n",
    "                        root=self.LR_Rotation(root)\r\n",
    "            elif val>root.val:\r\n",
    "                #在当前节点的右子树上插入\r\n",
    "                root.right=self.insertNode(val,root.right)\r\n",
    "                #右子树高度-左子树高度==2，失衡，调整\r\n",
    "                if self.getHeight(root.right)-self.getHeight(root.left)==2:\r\n",
    "                    #破坏者在当前节点的右子树的右子树-->RR\r\n",
    "                    if val>root.right.val:\r\n",
    "                        root=self.RR_Rotation(root)\r\n",
    "                    #破坏者在当前节点的右子树的左子树-->RL\r\n",
    "                    elif val<root.right.val:\r\n",
    "                        root=self.RL_Rotation(root)\r\n",
    "        root.height=max(self.getHeight(root.right),self.getHeight(root.left))+1\r\n",
    "        return root\r\n",
    "\r\n",
    "        \r\n",
    "            \r\n",
    "\r\n",
    "\r\n",
    "\r\n",
    "\r\n",
    "#层序遍历\r\n",
    "def levelTraversal(root):\r\n",
    "    if root is None:\r\n",
    "        return []\r\n",
    "    queue=[]\r\n",
    "    solution=[]\r\n",
    "    queue.append(root)\r\n",
    "\r\n",
    "    while len(queue)>0:\r\n",
    "\r\n",
    "        temp_solution=[]\r\n",
    "        for i in range(len(queue)):\r\n",
    "            temp_solution.append((queue[0].val,queue[0].height))\r\n",
    "            if queue[0].left is not None:\r\n",
    "                queue.append(queue[0].left)\r\n",
    "            if queue[0].right is not None:\r\n",
    "                queue.append(queue[0].right)\r\n",
    "            queue.pop(0)\r\n",
    "        solution.append(temp_solution[:])\r\n",
    "    print(solution)\r\n",
    "    return solution\r\n",
    "\r\n",
    "\r\n",
    "\r\n"
   ]
  },
  {
   "cell_type": "code",
   "execution_count": 52,
   "metadata": {},
   "outputs": [],
   "source": [
    "avl_Tree=AVL_TREE()"
   ]
  },
  {
   "cell_type": "code",
   "execution_count": 86,
   "metadata": {},
   "outputs": [
    {
     "name": "stdout",
     "output_type": "stream",
     "text": [
      "2111937551440\n",
      "2111937551440\n",
      "140716862229728\n"
     ]
    }
   ],
   "source": [
    "avl_Tree=AVL_TREE()\r\n",
    "\r\n",
    "root=avl_Tree.insertNode(1,None)\r\n",
    "print(id(root))\r\n",
    "root=avl_Tree.insertNode(2,root)\r\n",
    "print(id(root))\r\n",
    "print(id(root.left))"
   ]
  },
  {
   "cell_type": "code",
   "execution_count": 87,
   "metadata": {},
   "outputs": [
    {
     "name": "stdout",
     "output_type": "stream",
     "text": [
      "2111937549816\n",
      "[[(2, 2)], [(1, 1), (3, 1)]]\n"
     ]
    },
    {
     "data": {
      "text/plain": "[[(2, 2)], [(1, 1), (3, 1)]]"
     },
     "execution_count": 87,
     "metadata": {},
     "output_type": "execute_result"
    }
   ],
   "source": [
    "root=avl_Tree.insertNode(3,root)\r\n",
    "print(id(root))\r\n",
    "levelTraversal(root)"
   ]
  },
  {
   "cell_type": "code",
   "execution_count": 80,
   "metadata": {},
   "outputs": [],
   "source": [
    "root=avl_Tree.insertNode(4,root)\r\n",
    "root=avl_Tree.insertNode(5,root)"
   ]
  },
  {
   "cell_type": "code",
   "execution_count": 81,
   "metadata": {},
   "outputs": [
    {
     "name": "stdout",
     "output_type": "stream",
     "text": [
      "[[(2, 3)], [(1, 1), (4, 2)], [(3, 1), (5, 1)]]\n"
     ]
    },
    {
     "data": {
      "text/plain": "[[(2, 3)], [(1, 1), (4, 2)], [(3, 1), (5, 1)]]"
     },
     "execution_count": 81,
     "metadata": {},
     "output_type": "execute_result"
    }
   ],
   "source": [
    "levelTraversal(root)"
   ]
  },
  {
   "cell_type": "code",
   "execution_count": 82,
   "metadata": {},
   "outputs": [],
   "source": [
    "root=avl_Tree.insertNode(6,root)"
   ]
  },
  {
   "cell_type": "code",
   "execution_count": 83,
   "metadata": {},
   "outputs": [
    {
     "name": "stdout",
     "output_type": "stream",
     "text": [
      "[[(4, 3)], [(2, 2), (5, 2)], [(1, 1), (3, 1), (6, 1)]]\n"
     ]
    },
    {
     "data": {
      "text/plain": "[[(4, 3)], [(2, 2), (5, 2)], [(1, 1), (3, 1), (6, 1)]]"
     },
     "execution_count": 83,
     "metadata": {},
     "output_type": "execute_result"
    }
   ],
   "source": [
    "levelTraversal(root)"
   ]
  }
 ],
 "metadata": {
  "kernelspec": {
   "display_name": "Python 3",
   "language": "python",
   "name": "python3"
  },
  "language_info": {
   "codemirror_mode": {
    "name": "ipython",
    "version": 3
   },
   "file_extension": ".py",
   "mimetype": "text/x-python",
   "name": "python",
   "nbconvert_exporter": "python",
   "pygments_lexer": "ipython3",
   "version": "3.7.3"
  },
  "orig_nbformat": 2
 },
 "nbformat": 4,
 "nbformat_minor": 2
}