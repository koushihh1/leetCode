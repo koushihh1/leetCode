{
 "cells": [
  {
   "cell_type": "code",
   "execution_count": 2,
   "metadata": {},
   "outputs": [
    {
     "name": "stdout",
     "output_type": "stream",
     "text": [
      "[[5], [4, 8], [11, 13, 4], [7, 2, 5, 1]]\n"
     ]
    },
    {
     "data": {
      "text/plain": "[[5], [4, 8], [11, 13, 4], [7, 2, 5, 1]]"
     },
     "execution_count": 2,
     "metadata": {},
     "output_type": "execute_result"
    }
   ],
   "source": [
    "class TreeNode:\r\n",
    "    def __init__(self, val=0, left=None, right=None):\r\n",
    "        self.val = val\r\n",
    "        self.left = left\r\n",
    "        self.right = right\r\n",
    "    def show(self):\r\n",
    "        print(\"value:\",self.val)\r\n",
    "        print(\"left:\",self.left)\r\n",
    "        print(\"right:\",self.right)\r\n",
    "\r\n",
    "\r\n",
    "def buildTree(index,len_tree,tree):\r\n",
    "    if tree[index] is None:\r\n",
    "        return None\r\n",
    "\r\n",
    "    cur_node=TreeNode(tree[index])\r\n",
    "    if index*2+1<len_tree:\r\n",
    "        cur_node.left=buildTree(index*2+1,len_tree,tree[:])\r\n",
    "    if index*2+2<len_tree:\r\n",
    "        cur_node.right=buildTree(index*2+2,len_tree,tree[:])\r\n",
    "    return cur_node\r\n",
    "\r\n",
    "\r\n",
    "#层序遍历\r\n",
    "def levelTraversal(root):\r\n",
    "    if root is None:\r\n",
    "        return []\r\n",
    "    queue=[]\r\n",
    "    solution=[]\r\n",
    "    queue.append(root)\r\n",
    "\r\n",
    "    while len(queue)>0:\r\n",
    "\r\n",
    "        temp_solution=[]\r\n",
    "        for i in range(len(queue)):\r\n",
    "            temp_solution.append(queue[0].val)\r\n",
    "            if queue[0].left is not None:\r\n",
    "                queue.append(queue[0].left)\r\n",
    "            if queue[0].right is not None:\r\n",
    "                queue.append(queue[0].right)\r\n",
    "            queue.pop(0)\r\n",
    "        solution.append(temp_solution[:])\r\n",
    "    print(solution)\r\n",
    "    return solution\r\n",
    "\r\n",
    "node_list=[5,4,8,11,None,13,4,7,2,None,None,None,None,5,1]\r\n",
    "root=buildTree(0,len(node_list),node_list)\r\n",
    "levelTraversal(root)\r\n",
    "\r\n",
    "\r\n"
   ]
  },
  {
   "cell_type": "code",
   "execution_count": 3,
   "metadata": {},
   "outputs": [],
   "source": [
    "class AVLTree:\r\n",
    "    def __init__(self,node=None):\r\n",
    "        self.root=node\r\n",
    "\r\n",
    "    def insert(self,new_node):\r\n",
    "        if new_node.val>self.root.val:\r\n",
    "\r\n",
    "\r\n",
    "\r\n",
    "root_node=TreeNode(5)\r\n",
    "avl_root_1=AVLTree(root_node)\r\n",
    "\r\n"
   ]
  },
  {
   "cell_type": "code",
   "execution_count": 5,
   "metadata": {},
   "outputs": [
    {
     "data": {
      "text/plain": "5"
     },
     "execution_count": 5,
     "metadata": {},
     "output_type": "execute_result"
    }
   ],
   "source": []
  }
 ],
 "metadata": {
  "kernelspec": {
   "display_name": "Python 3",
   "language": "python",
   "name": "python3"
  },
  "language_info": {
   "codemirror_mode": {
    "name": "ipython",
    "version": 3
   },
   "file_extension": ".py",
   "mimetype": "text/x-python",
   "name": "python",
   "nbconvert_exporter": "python",
   "pygments_lexer": "ipython3",
   "version": "3.7.3"
  },
  "orig_nbformat": 2
 },
 "nbformat": 4,
 "nbformat_minor": 2
}