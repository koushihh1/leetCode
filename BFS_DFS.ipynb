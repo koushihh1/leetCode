{
 "cells": [
  {
   "cell_type": "code",
   "execution_count": 4,
   "metadata": {},
   "outputs": [
    {
     "data": {
      "text/plain": "[['X', 'X', 'X', 'X'],\n ['X', 'X', 'X', 'X'],\n ['X', 'X', 'X', 'X'],\n ['X', 'O', 'X', 'X']]"
     },
     "execution_count": 4,
     "metadata": {},
     "output_type": "execute_result"
    }
   ],
   "source": [
    "#130 被包围的区域\r\n",
    "\r\n",
    "board=[ [\"X\",\"X\",\"X\",\"X\"],\r\n",
    "        [\"X\",\"O\",\"O\",\"X\"],\r\n",
    "        [\"X\",\"X\",\"O\",\"X\"],\r\n",
    "        [\"X\",\"O\",\"X\",\"X\"]]\r\n",
    "\r\n",
    "row_num=len(board)\r\n",
    "col_num=len(board[0])\r\n",
    "\r\n",
    "def BFS(i,j):\r\n",
    "    if i==-1 or j==-1 or i==row_num or j==col_num or board[i][j]!=\"O\":\r\n",
    "        return \r\n",
    "\r\n",
    "    board[i][j]=\"#\"\r\n",
    "    BFS(i+1,j)\r\n",
    "    BFS(i-1,j)\r\n",
    "    BFS(i,j+1)\r\n",
    "    BFS(i,j-1)\r\n",
    "\r\n",
    "for i in range(row_num):\r\n",
    "    BFS(i,col_num-1)\r\n",
    "    BFS(i,0)\r\n",
    "\r\n",
    "for j in range(col_num):\r\n",
    "    BFS(0,j)\r\n",
    "    BFS(row_num-1,j)\r\n",
    "\r\n",
    "for i in range(row_num):\r\n",
    "    for j in range(col_num):\r\n",
    "        if board[i][j]==\"O\":\r\n",
    "            board[i][j]=\"X\"\r\n",
    "        if board[i][j]==\"#\":\r\n",
    "            board[i][j]=\"O\"\r\n",
    "\r\n",
    "board"
   ]
  },
  {
   "cell_type": "code",
   "execution_count": 1,
   "metadata": {},
   "outputs": [],
   "source": [
    "a=1"
   ]
  },
  {
   "cell_type": "code",
   "execution_count": 23,
   "metadata": {},
   "outputs": [
    {
     "data": {
      "text/plain": "6"
     },
     "execution_count": 23,
     "metadata": {},
     "output_type": "execute_result"
    }
   ],
   "source": [
    "#200. 岛屿数量\r\n",
    "\r\n",
    "grid = [[0,0,1,0,0,0,0,1,0,0,0,0,0],\r\n",
    "        [0,0,0,0,0,0,0,1,1,1,0,0,0],\r\n",
    "        [0,1,1,0,1,0,0,0,0,0,0,0,0],\r\n",
    "        [0,1,0,0,1,1,0,0,1,0,1,0,0],\r\n",
    "        [0,1,0,0,1,1,0,0,1,1,1,0,0],\r\n",
    "        [0,0,0,0,0,0,0,0,0,0,1,0,0],\r\n",
    "        [0,0,0,0,0,0,0,1,1,1,0,0,0],\r\n",
    "        [0,0,0,0,0,0,0,1,1,0,0,0,0]]\r\n",
    "\r\n",
    "row_num=len(grid)\r\n",
    "col_num=len(grid[0])\r\n",
    "max_space=0\r\n",
    "cur_space=0\r\n",
    "\r\n",
    "def DFS(i,j):\r\n",
    "    global cur_space\r\n",
    "    #如果触碰到了边界，或者是已经访问过的，或者是海洋，就返回\r\n",
    "    if i==-1 or j==-1 or i==row_num or j==col_num or grid[i][j]!=1:\r\n",
    "        return\r\n",
    "    \r\n",
    "    cur_space+=1\r\n",
    "    grid[i][j]=2\r\n",
    "    DFS(i-1,j)\r\n",
    "    DFS(i,j+1)\r\n",
    "    DFS(i+1,j)\r\n",
    "    DFS(i,j-1)\r\n",
    "\r\n",
    "for i in range(row_num):\r\n",
    "    for j in range(col_num):\r\n",
    "        #如果当前是陆地，就递归\r\n",
    "        if grid[i][j]==1:\r\n",
    "            DFS(i,j)\r\n",
    "            max_space=max(max_space,cur_space)\r\n",
    "            cur_space=0\r\n",
    "max_space\r\n"
   ]
  },
  {
   "cell_type": "code",
   "execution_count": 10,
   "metadata": {},
   "outputs": [
    {
     "data": {
      "text/plain": "1"
     },
     "execution_count": 10,
     "metadata": {},
     "output_type": "execute_result"
    }
   ],
   "source": [
    "#1254. 统计封闭岛屿的数目\r\n",
    "\r\n",
    "grid=[[1,1,1,1,1,1,1],\r\n",
    "        [1,0,0,0,0,0,1],\r\n",
    "        [1,0,1,1,1,0,1],\r\n",
    "        [1,0,1,0,1,0,0],\r\n",
    "        [1,0,1,1,1,0,1],\r\n",
    "        [1,0,0,0,0,0,1],\r\n",
    "        [1,1,1,1,1,1,1]]\r\n",
    "\r\n",
    "row_num=len(grid)\r\n",
    "col_num=len(grid[0])\r\n",
    "\r\n",
    "def BFS(i,j):\r\n",
    "    if i==-1 or j==-1 or i==row_num or j==col_num or grid[i][j]==1:\r\n",
    "        return \r\n",
    "    \r\n",
    "    grid[i][j]=1\r\n",
    "    BFS(i-1,j)\r\n",
    "    BFS(i+1,j)\r\n",
    "    BFS(i,j-1)\r\n",
    "    BFS(i,j+1)\r\n",
    "\r\n",
    "for i in range(row_num):\r\n",
    "    BFS(i,0)\r\n",
    "    BFS(i,col_num-1)\r\n",
    "\r\n",
    "for j in range(col_num):\r\n",
    "    BFS(0,j)\r\n",
    "    BFS(row_num-1,j)\r\n",
    "\r\n",
    "\r\n",
    "num=0\r\n",
    "for i in range(1,row_num):\r\n",
    "    for j in range(1,col_num):\r\n",
    "        if grid[i][j]==0:\r\n",
    "            BFS(i,j)\r\n",
    "            num+=1\r\n",
    "num\r\n",
    "\r\n",
    "\r\n"
   ]
  },
  {
   "cell_type": "code",
   "execution_count": 29,
   "metadata": {},
   "outputs": [
    {
     "data": {
      "text/plain": "[0, 1, 2, 3, 4, 5, 6, 7]"
     },
     "execution_count": 29,
     "metadata": {},
     "output_type": "execute_result"
    }
   ],
   "source": [
    "#207. 课程表   BFS解法\r\n",
    "numCourses = 8\r\n",
    "prerequisites = [[2,0],[3,0],[3,1],[4,1],[5,2],[5,3],[6,3],[6,4],[7,5],[7,6]]\r\n",
    "\r\n",
    "in_degree_list=[0 for i in range(numCourses)]\r\n",
    "adjacent_list={i:[] for i in range(numCourses)}\r\n",
    "\r\n",
    "for i in prerequisites:\r\n",
    "    in_degree_list[i[0]]+=1\r\n",
    "    adjacent_list[i[1]].append(i[0])\r\n",
    "\r\n",
    "q=[]\r\n",
    "#把图中所有入度为0的顶点加入队列\r\n",
    "for i in range(numCourses):\r\n",
    "    if in_degree_list[i]==0:\r\n",
    "        q.append(i)\r\n",
    "\r\n",
    "topological_order=[]\r\n",
    "while len(q)>0:\r\n",
    "    #对于队列首元素的所有邻接点，拿掉这个首元素\r\n",
    "    for i in adjacent_list[q[0]]:\r\n",
    "        #把首元素所有的邻接点的入度都减1\r\n",
    "        in_degree_list[i]-=1\r\n",
    "        #如果当前邻接点的入度为0，同样把它加入到队列中\r\n",
    "        if in_degree_list[i]==0:\r\n",
    "            q.append(i)\r\n",
    "    #首元素出队\r\n",
    "    topological_order.append(q[0])\r\n",
    "    q.pop(0)\r\n",
    "\r\n",
    "topological_order\r\n"
   ]
  },
  {
   "cell_type": "code",
   "execution_count": 39,
   "metadata": {},
   "outputs": [],
   "source": [
    "#207. 课程表   DFS解法\r\n",
    "\r\n",
    "numCourses=8\r\n",
    "prerequisites = [[2,0],[3,0],[3,1],[4,1],[5,2],[5,3],[6,3],[6,4],[7,5],[7,6]]\r\n",
    "\r\n",
    "adjacent_list=[[] for i in range(numCourses)]\r\n",
    "visits=[0 for i in range(numCourses)]\r\n",
    "\r\n",
    "for cur,pre in prerequisites:\r\n",
    "    adjacent_list[pre].append(cur)\r\n",
    "\r\n",
    "#深度优先搜索\r\n",
    "def DFS(v):\r\n",
    "    #如果当前节点v正处于访问过程中（当前节点的DFS还未结束），说明图中存在环！，返回false\r\n",
    "    if visits[v]==1:\r\n",
    "        return False\r\n",
    "    #如果当前节点v已经访问完了（当前节点的DFS已经结束），退回到上一层，返回True\r\n",
    "    if visits[v]==-1:\r\n",
    "        return True\r\n",
    "    \r\n",
    "    #把当前节点v的状态设置为1，代表正在访问，DFS还未结束\r\n",
    "    visits[v]=1\r\n",
    "    #对于当前节点v的所有邻接点，做DFS\r\n",
    "    #如果有一个邻接点的DFS存在环，直接返回false\r\n",
    "    for u in adjacent_list[v]:\r\n",
    "        if not DFS(u):\r\n",
    "            return False\r\n",
    "    \r\n",
    "    #如果所有邻接点的DFS都做完了，就把当前节点v的访问状态设置为-1，代表所有邻接点的访问都已完成\r\n",
    "    visits[v]=-1\r\n",
    "    return True\r\n",
    "\r\n",
    "#对于每一个顶点，执行DFS\r\n",
    "for i in range(numCourses):\r\n",
    "    if not DFS(i):\r\n",
    "        print(\"false!\")\r\n",
    "        break\r\n"
   ]
  },
  {
   "cell_type": "code",
   "execution_count": 16,
   "metadata": {},
   "outputs": [
    {
     "data": {
      "text/plain": "[2]"
     },
     "execution_count": 16,
     "metadata": {},
     "output_type": "execute_result"
    }
   ],
   "source": [
    "q"
   ]
  }
 ],
 "metadata": {
  "kernelspec": {
   "display_name": "Python 3",
   "language": "python",
   "name": "python3"
  },
  "language_info": {
   "codemirror_mode": {
    "name": "ipython",
    "version": 3
   },
   "file_extension": ".py",
   "mimetype": "text/x-python",
   "name": "python",
   "nbconvert_exporter": "python",
   "pygments_lexer": "ipython3",
   "version": "3.7.3"
  },
  "orig_nbformat": 2
 },
 "nbformat": 4,
 "nbformat_minor": 2
}