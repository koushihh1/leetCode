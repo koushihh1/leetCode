{
 "cells": [
  {
   "cell_type": "code",
   "execution_count": 4,
   "metadata": {},
   "outputs": [
    {
     "data": {
      "text/plain": "[['X', 'X', 'X', 'X'],\n ['X', 'X', 'X', 'X'],\n ['X', 'X', 'X', 'X'],\n ['X', 'O', 'X', 'X']]"
     },
     "execution_count": 4,
     "metadata": {},
     "output_type": "execute_result"
    }
   ],
   "source": [
    "#130 被包围的区域\r\n",
    "\r\n",
    "board=[ [\"X\",\"X\",\"X\",\"X\"],\r\n",
    "        [\"X\",\"O\",\"O\",\"X\"],\r\n",
    "        [\"X\",\"X\",\"O\",\"X\"],\r\n",
    "        [\"X\",\"O\",\"X\",\"X\"]]\r\n",
    "\r\n",
    "row_num=len(board)\r\n",
    "col_num=len(board[0])\r\n",
    "\r\n",
    "def BFS(i,j):\r\n",
    "    if i==-1 or j==-1 or i==row_num or j==col_num or board[i][j]!=\"O\":\r\n",
    "        return \r\n",
    "\r\n",
    "    board[i][j]=\"#\"\r\n",
    "    BFS(i+1,j)\r\n",
    "    BFS(i-1,j)\r\n",
    "    BFS(i,j+1)\r\n",
    "    BFS(i,j-1)\r\n",
    "\r\n",
    "for i in range(row_num):\r\n",
    "    BFS(i,col_num-1)\r\n",
    "    BFS(i,0)\r\n",
    "\r\n",
    "for j in range(col_num):\r\n",
    "    BFS(0,j)\r\n",
    "    BFS(row_num-1,j)\r\n",
    "\r\n",
    "for i in range(row_num):\r\n",
    "    for j in range(col_num):\r\n",
    "        if board[i][j]==\"O\":\r\n",
    "            board[i][j]=\"X\"\r\n",
    "        if board[i][j]==\"#\":\r\n",
    "            board[i][j]=\"O\"\r\n",
    "\r\n",
    "board"
   ]
  },
  {
   "cell_type": "code",
   "execution_count": 1,
   "metadata": {},
   "outputs": [],
   "source": [
    "a=1"
   ]
  },
  {
   "cell_type": "code",
   "execution_count": 23,
   "metadata": {},
   "outputs": [
    {
     "data": {
      "text/plain": "6"
     },
     "execution_count": 23,
     "metadata": {},
     "output_type": "execute_result"
    }
   ],
   "source": [
    "#200. 岛屿数量\r\n",
    "\r\n",
    "grid = [[0,0,1,0,0,0,0,1,0,0,0,0,0],\r\n",
    "        [0,0,0,0,0,0,0,1,1,1,0,0,0],\r\n",
    "        [0,1,1,0,1,0,0,0,0,0,0,0,0],\r\n",
    "        [0,1,0,0,1,1,0,0,1,0,1,0,0],\r\n",
    "        [0,1,0,0,1,1,0,0,1,1,1,0,0],\r\n",
    "        [0,0,0,0,0,0,0,0,0,0,1,0,0],\r\n",
    "        [0,0,0,0,0,0,0,1,1,1,0,0,0],\r\n",
    "        [0,0,0,0,0,0,0,1,1,0,0,0,0]]\r\n",
    "\r\n",
    "row_num=len(grid)\r\n",
    "col_num=len(grid[0])\r\n",
    "max_space=0\r\n",
    "cur_space=0\r\n",
    "\r\n",
    "def DFS(i,j):\r\n",
    "    global cur_space\r\n",
    "    #如果触碰到了边界，或者是已经访问过的，或者是海洋，就返回\r\n",
    "    if i==-1 or j==-1 or i==row_num or j==col_num or grid[i][j]!=1:\r\n",
    "        return\r\n",
    "    \r\n",
    "    cur_space+=1\r\n",
    "    grid[i][j]=2\r\n",
    "    DFS(i-1,j)\r\n",
    "    DFS(i,j+1)\r\n",
    "    DFS(i+1,j)\r\n",
    "    DFS(i,j-1)\r\n",
    "\r\n",
    "for i in range(row_num):\r\n",
    "    for j in range(col_num):\r\n",
    "        #如果当前是陆地，就递归\r\n",
    "        if grid[i][j]==1:\r\n",
    "            DFS(i,j)\r\n",
    "            max_space=max(max_space,cur_space)\r\n",
    "            cur_space=0\r\n",
    "max_space\r\n"
   ]
  },
  {
   "cell_type": "code",
   "execution_count": 10,
   "metadata": {},
   "outputs": [
    {
     "data": {
      "text/plain": "1"
     },
     "execution_count": 10,
     "metadata": {},
     "output_type": "execute_result"
    }
   ],
   "source": [
    "#1254. 统计封闭岛屿的数目\r\n",
    "\r\n",
    "grid=[[1,1,1,1,1,1,1],\r\n",
    "        [1,0,0,0,0,0,1],\r\n",
    "        [1,0,1,1,1,0,1],\r\n",
    "        [1,0,1,0,1,0,0],\r\n",
    "        [1,0,1,1,1,0,1],\r\n",
    "        [1,0,0,0,0,0,1],\r\n",
    "        [1,1,1,1,1,1,1]]\r\n",
    "\r\n",
    "row_num=len(grid)\r\n",
    "col_num=len(grid[0])\r\n",
    "\r\n",
    "def BFS(i,j):\r\n",
    "    if i==-1 or j==-1 or i==row_num or j==col_num or grid[i][j]==1:\r\n",
    "        return \r\n",
    "    \r\n",
    "    grid[i][j]=1\r\n",
    "    BFS(i-1,j)\r\n",
    "    BFS(i+1,j)\r\n",
    "    BFS(i,j-1)\r\n",
    "    BFS(i,j+1)\r\n",
    "\r\n",
    "for i in range(row_num):\r\n",
    "    BFS(i,0)\r\n",
    "    BFS(i,col_num-1)\r\n",
    "\r\n",
    "for j in range(col_num):\r\n",
    "    BFS(0,j)\r\n",
    "    BFS(row_num-1,j)\r\n",
    "\r\n",
    "\r\n",
    "num=0\r\n",
    "for i in range(1,row_num):\r\n",
    "    for j in range(1,col_num):\r\n",
    "        if grid[i][j]==0:\r\n",
    "            BFS(i,j)\r\n",
    "            num+=1\r\n",
    "num\r\n",
    "\r\n",
    "\r\n"
   ]
  },
  {
   "cell_type": "code",
   "execution_count": 8,
   "metadata": {},
   "outputs": [
    {
     "data": {
      "text/plain": "[[1, 1, 0, 0, 0], [0, 1, 0, 0, 0], [0, 0, 0, 0, 0], [0, 0, 0, 0, 0]]"
     },
     "execution_count": 8,
     "metadata": {},
     "output_type": "execute_result"
    }
   ],
   "source": [
    "isAccess"
   ]
  }
 ],
 "metadata": {
  "kernelspec": {
   "display_name": "Python 3",
   "name": "python3"
  },
  "language_info": {
   "codemirror_mode": {
    "name": "ipython",
    "version": 3
   },
   "file_extension": ".py",
   "mimetype": "text/x-python",
   "name": "python",
   "nbconvert_exporter": "python",
   "pygments_lexer": "ipython3",
   "version": "3.7.3"
  },
  "orig_nbformat": 2
 },
 "nbformat": 4,
 "nbformat_minor": 2
}