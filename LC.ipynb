{
 "cells": [
  {
   "cell_type": "code",
   "execution_count": 1,
   "metadata": {},
   "outputs": [],
   "source": [
    "#1049 最后一块石头的重量\n",
    "\n",
    "\n",
    "stones=[21,60,61,20,31]\n",
    "W=int(sum(stones)/2)\n",
    "\n",
    "f=[0 for i in range(W+1)]\n",
    "\n",
    "for i in range(1,W+1):\n",
    "    if i>=stones[0]:\n",
    "        f[i]=stones[0]\n",
    "\n",
    "for j in range(1,len(stones)):\n",
    "    for i in range(W,-1,-1):\n",
    "        if i-stones[j]>=0:\n",
    "            f[i]=max(f[i],f[i-stones[j]]+stones[j])\n",
    "\n",
    "weight1=max(f)\n",
    "weight2=sum(stones)-weight1\n",
    "\n",
    "\n",
    "\n"
   ]
  },
  {
   "cell_type": "code",
   "execution_count": 47,
   "metadata": {},
   "outputs": [],
   "source": [
    "#416 分割等和子集\n",
    "\n",
    "nums=[1, 5, 11, 5]\n",
    "\n",
    "if sum(nums)%2!=0:\n",
    "    result=False\n",
    "else:\n",
    "    W=int(sum(nums)/2)\n",
    "    \n",
    "\n",
    "    f=[0 for i in range(W+1)]\n",
    "\n",
    "    for i in range(1,W+1):\n",
    "        if i>=nums[0]:\n",
    "            f[i]=nums[0]\n",
    "    \n",
    "    for i in range(1,len(nums)):\n",
    "        for j in range(W,0,-1):\n",
    "            if j-nums[i]>=0:\n",
    "                f[j]=max(f[j],f[j-nums[i]]+nums[i])\n",
    "\n",
    "    if max(f)==W:\n",
    "        result=True\n",
    "    else:\n",
    "        result=False\n",
    "    "
   ]
  },
  {
   "cell_type": "code",
   "execution_count": 64,
   "metadata": {},
   "outputs": [],
   "source": [
    "#416 分割等和子集  另一种定义状态转移方程\n",
    "\n",
    "#f[i][j] 表示 0-i个物品，能否正好放入容量为j的背包中\n",
    "\n",
    "nums=[2,2,1,1]\n",
    "\n",
    "if sum(nums)%2!=0:\n",
    "    result=False\n",
    "else:\n",
    "    W=int(sum(nums)/2)\n",
    "    f=[[False for i in range(W+1)] for j in range(len(nums))]\n",
    "\n",
    "    for j in range(0,len(nums)):\n",
    "        f[j][0]=True\n",
    "\n",
    "    for i in range(1,W+1):\n",
    "        if nums[0]==i:\n",
    "            f[0][i]=True\n",
    "        \n",
    "    for i in range(1,len(nums)):\n",
    "        for j in range(1,W+1):\n",
    "\n",
    "            #当前背包容量可以放入第i个物品\n",
    "            if j>=nums[i]:\n",
    "                #正好放入\n",
    "                if j==nums[i]:\n",
    "                    f[i][j]=True\n",
    "                #放入i后，还有多余空间\n",
    "                else:\n",
    "                    f[i][j]=max(f[i-1][j-nums[i]],f[i-1][j])\n",
    "            #当前背包容量不能放入第i个物品\n",
    "            else:\n",
    "                f[i][j]=f[i-1][j]\n",
    "                "
   ]
  },
  {
   "cell_type": "code",
   "execution_count": 65,
   "metadata": {},
   "outputs": [
    {
     "data": {
      "text/plain": [
       "[[True, False, True, False],\n",
       " [True, False, True, False],\n",
       " [True, True, True, True],\n",
       " [True, True, True, True]]"
      ]
     },
     "execution_count": 65,
     "metadata": {},
     "output_type": "execute_result"
    }
   ],
   "source": [
    "f"
   ]
  },
  {
   "cell_type": "code",
   "execution_count": 32,
   "metadata": {},
   "outputs": [],
   "source": [
    "# 0-1 背包问题\n",
    "\n",
    "#背包容量为W， 重量数组为weight[], 价值数组为 value[], 求如何取物品，使得价值最大\n",
    "\n",
    "#W[i][j]  表示前0-i个物品，放入容量为j的背包的最大价值\n",
    "\n",
    "#状态转移方程：f[i][j]=max(f[i-1][j],f[i-1][j-weight[i]]+value[i])\n",
    "\n",
    "W=4\n",
    "weight=[1,3,4]\n",
    "value=[15,20,30]\n",
    "\n",
    "f=[[0 for i in range(W+1)] for j in range(len(weight))]\n",
    "\n",
    "for j in range(1,W+1):\n",
    "    if j>=weight[0]:\n",
    "        f[0][j]=value[0]\n",
    "\n",
    "\n",
    "for i in range(1,len(weight)):\n",
    "    for j in range(1,W+1):\n",
    "        if j-weight[i]>=0:\n",
    "            f[i][j]=max(f[i-1][j],f[i-1][j-weight[i]]+value[i]) \n",
    "        else:\n",
    "            f[i][j]=f[i-1][j]\n"
   ]
  },
  {
   "cell_type": "code",
   "execution_count": 33,
   "metadata": {},
   "outputs": [
    {
     "data": {
      "text/plain": [
       "[[0, 15, 15, 15, 15], [0, 15, 15, 20, 35], [0, 15, 15, 20, 35]]"
      ]
     },
     "execution_count": 33,
     "metadata": {},
     "output_type": "execute_result"
    }
   ],
   "source": [
    "f"
   ]
  },
  {
   "cell_type": "code",
   "execution_count": 1,
   "metadata": {},
   "outputs": [],
   "source": [
    "#贪心\n"
   ]
  },
  {
   "cell_type": "code",
   "execution_count": 1,
   "metadata": {},
   "outputs": [
    {
     "data": {
      "text/plain": [
       "6"
      ]
     },
     "execution_count": 1,
     "metadata": {},
     "output_type": "execute_result"
    }
   ],
   "source": [
    "#376  摆动序列\n",
    "\n",
    "nums=[1,7,4,9,2,5]\n",
    "\n",
    "if len(nums)==1:\n",
    "    count=1\n",
    "else:\n",
    "    pre_flag=2\n",
    "    pre_num=nums[0]\n",
    "    count=1\n",
    "    for i in range(1,len(nums)):\n",
    "        cur_num=nums[i]\n",
    "        if cur_num==pre_num:\n",
    "            continue\n",
    "        else:\n",
    "            cur_flag=1 if cur_num>pre_num else 0\n",
    "            if cur_flag!=pre_flag:\n",
    "                count+=1\n",
    "                pre_flag=cur_flag\n",
    "            pre_num=cur_num\n",
    "count"
   ]
  },
  {
   "cell_type": "code",
   "execution_count": 20,
   "metadata": {},
   "outputs": [
    {
     "data": {
      "text/plain": [
       "False"
      ]
     },
     "execution_count": 20,
     "metadata": {},
     "output_type": "execute_result"
    }
   ],
   "source": [
    "#55 跳跃游戏\n",
    "nums=[3,2,1,0,4]\n",
    "\n",
    "flag=False\n",
    "RightMost=0\n",
    "\n",
    "for i in range(0,len(nums)-1):\n",
    "    if i<=RightMost:\n",
    "        RightMost=max(RightMost,i+nums[i])\n",
    "    if RightMost>=len(nums):\n",
    "        flag=True\n",
    "        break\n",
    "\n",
    "flag"
   ]
  },
  {
   "cell_type": "code",
   "execution_count": null,
   "metadata": {},
   "outputs": [],
   "source": [
    "#45 跳跃游戏Ⅱ\n",
    "\n"
   ]
  },
  {
   "cell_type": "code",
   "execution_count": 15,
   "metadata": {},
   "outputs": [
    {
     "data": {
      "text/plain": [
       "False"
      ]
     },
     "execution_count": 15,
     "metadata": {},
     "output_type": "execute_result"
    }
   ],
   "source": [
    "flag"
   ]
  },
  {
   "cell_type": "code",
   "execution_count": 6,
   "metadata": {},
   "outputs": [
    {
     "data": {
      "text/plain": [
       "4"
      ]
     },
     "execution_count": 6,
     "metadata": {},
     "output_type": "execute_result"
    }
   ],
   "source": [
    "A=[1,2,8,5,8,5,4]\n",
    "len(A)-A[::-1].index(max(A))-1"
   ]
  }
 ],
 "metadata": {
  "kernelspec": {
   "display_name": "Python 3",
   "language": "python",
   "name": "python3"
  },
  "language_info": {
   "codemirror_mode": {
    "name": "ipython",
    "version": 3
   },
   "file_extension": ".py",
   "mimetype": "text/x-python",
   "name": "python",
   "nbconvert_exporter": "python",
   "pygments_lexer": "ipython3",
   "version": "3.7.3-final"
  },
  "orig_nbformat": 2
 },
 "nbformat": 4,
 "nbformat_minor": 2
}