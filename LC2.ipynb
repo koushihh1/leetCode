{
 "cells": [
  {
   "cell_type": "code",
   "execution_count": 1,
   "metadata": {},
   "outputs": [
    {
     "data": {
      "text/plain": "[[7, 0], [7, 1], [6, 1], [5, 0], [5, 2], [4, 4]]"
     },
     "execution_count": 1,
     "metadata": {},
     "output_type": "execute_result"
    }
   ],
   "source": [
    "#406 根据身高重建队列\n",
    "\n",
    "people = [[7,0],[4,4],[7,1],[5,0],[6,1],[5,2]]\n",
    "\n",
    "new_people=sorted(people,key=lambda x:x[0], reverse=True)\n",
    "new_people"
   ]
  },
  {
   "cell_type": "code",
   "execution_count": 24,
   "metadata": {},
   "outputs": [
    {
     "data": {
      "text/plain": [
       "[[3, 0],\n",
       " [6, 0],\n",
       " [7, 0],\n",
       " [5, 2],\n",
       " [3, 4],\n",
       " [5, 3],\n",
       " [6, 2],\n",
       " [2, 7],\n",
       " [9, 0],\n",
       " [1, 9]]"
      ]
     },
     "execution_count": 24,
     "metadata": {},
     "output_type": "execute_result"
    }
   ],
   "source": [
    "people = [[9,0],[7,0],[1,9],[3,0],[2,7],[5,3],[6,0],[3,4],[6,2],[5,2]]\n",
    "new_people=sorted(people,key=lambda x:(-x[0],x[1]))\n",
    "\n",
    "index_list=[i for i in range(len(people))]\n",
    "final_list=[0 for i in range(len(people))]\n",
    "\n",
    "for i in new_people[::-1]:\n",
    "    position=index_list.pop(i[1])\n",
    "    final_list[position]=i\n",
    "\n",
    "final_list"
   ]
  },
  {
   "cell_type": "code",
   "execution_count": 22,
   "metadata": {},
   "outputs": [
    {
     "name": "stdout",
     "output_type": "stream",
     "text": [
      "[[7, 8, 3], [4, 1, 0], [4, 2, 9], [1, 5, 6]]\n"
     ]
    }
   ],
   "source": [
    "list1 = [[4, 2, 9], [1, 5, 6], [7, 8, 3],[4, 1, 0]]\n",
    "#一次排序\n",
    "new_list = sorted(list1, key=lambda k: k[0], reverse=True)\n",
    "#二次排序\n",
    "new_list = sorted(list1, key=lambda k: (-k[0],k[1]))\n",
    "print(new_list)"
   ]
  },
  {
   "cell_type": "code",
   "execution_count": 1,
   "metadata": {},
   "outputs": [
    {
     "name": "stdout",
     "output_type": "stream",
     "text": [
      "[0, 6]\n",
      "--------------\n",
      "[2, 6]\n",
      "--------------\n",
      "[2, 6]\n",
      "--------------\n",
      "[3, 6]\n",
      "--------------\n",
      "[3, 6]\n",
      "--------------\n",
      "[3, 6]\n",
      "--------------\n",
      "[6, 6]\n",
      "--------------\n",
      "[7, 12]\n",
      "--------------\n",
      "[9, 10]\n",
      "--------------\n"
     ]
    },
    {
     "data": {
      "text/plain": "2"
     },
     "execution_count": 1,
     "metadata": {},
     "output_type": "execute_result"
    }
   ],
   "source": [
    "#452 用最少数量的箭射爆气球\n",
    "\n",
    "points = [[3,9],[7,12],[3,8],[6,8],[9,10],[2,9],[0,9],[3,9],[0,6],[2,8]]\n",
    "\n",
    "new_points=sorted(points,key=lambda x:(x[0]))\n",
    "pre_ball=new_points[0]\n",
    "num=1\n",
    "range_list=new_points[0]\n",
    "\n",
    "for i in range(1,len(points)):\n",
    "    cur_ball=new_points[i]\n",
    "    if cur_ball[0]>range_list[1]:\n",
    "        num+=1\n",
    "        range_list=cur_ball\n",
    "        \n",
    "    else:\n",
    "        range_list=[max(cur_ball[0],range_list[0]),min(cur_ball[1],range_list[1])]\n",
    "    \n",
    "    print(range_list)\n",
    "    print(\"--------------\")\n",
    "\n",
    "num"
   ]
  },
  {
   "cell_type": "code",
   "execution_count": null,
   "metadata": {},
   "outputs": [],
   "source": [
    "\r\n",
    "\r\n"
   ]
  },
  {
   "cell_type": "code",
   "execution_count": 22,
   "metadata": {},
   "outputs": [
    {
     "data": {
      "text/plain": [
       "187"
      ]
     },
     "execution_count": 22,
     "metadata": {},
     "output_type": "execute_result"
    }
   ],
   "source": [
    "#435 无重叠区间\n",
    "\n",
    "intervals= [[1,2]]\n",
    "if len(intervals)==0:\n",
    "    num=0\n",
    "else:\n",
    "    intervals=sorted(intervals,key=lambda x:x[1])\n",
    "    num=0\n",
    "    pre=intervals[0]\n",
    "\n",
    "\n",
    "    for i in range(1,len(intervals)):\n",
    "        if intervals[i][0]>=pre[1]:\n",
    "            pre=intervals[i]\n",
    "        else:\n",
    "            num+=1\n",
    "num"
   ]
  },
  {
   "cell_type": "code",
   "execution_count": 32,
   "metadata": {},
   "outputs": [
    {
     "data": {
      "text/plain": [
       "[[1, 4]]"
      ]
     },
     "execution_count": 32,
     "metadata": {},
     "output_type": "execute_result"
    }
   ],
   "source": [
    "#56合并区间\n",
    "\n",
    "intervals = [[1,4],[2,3]]\n",
    "result=[]\n",
    "\n",
    "intervals=sorted(intervals,key=lambda x:(x[0],x[1]))\n",
    "pre=intervals[0]\n",
    "\n",
    "for i in intervals[1:]:\n",
    "    if i[0]>pre[1]:\n",
    "        result.append(pre)\n",
    "        pre=i\n",
    "    else:\n",
    "        if (i[0]<=pre[1])&(i[1]>pre[1]):\n",
    "            pre=[pre[0],i[1]]\n",
    "result.append(pre)\n",
    "result\n",
    "    \n"
   ]
  },
  {
   "cell_type": "code",
   "execution_count": 13,
   "metadata": {},
   "outputs": [
    {
     "data": {
      "text/plain": [
       "[9, 7, 8]"
      ]
     },
     "execution_count": 13,
     "metadata": {},
     "output_type": "execute_result"
    }
   ],
   "source": [
    "#763 划分区间\n",
    "S = \"ababcbacadefegdehijhklij\"\n",
    "far_right_position_dic={}\n",
    "far_right_position=0\n",
    "temp_str_len=0\n",
    "str_len_list=[]\n",
    "\n",
    "#找到每个字符的最右边的位置\n",
    "for i in range(len(S)):\n",
    "    far_right_position_dic[S[i]]=i\n",
    "\n",
    "for i in range(len(S)):\n",
    "    \n",
    "    #当前字符的最远位置 和 之前所有字符的最远位置\n",
    "    far_right_position=max(far_right_position_dic[S[i]],far_right_position)\n",
    "    temp_str_len+=1\n",
    "\n",
    "    #如果跑到了S[i]及之前所有字符的最远位置，说明可以把S[:i+1]分为一段\n",
    "    if i==far_right_position:\n",
    "        str_len_list.append(temp_str_len)\n",
    "        temp_str_len=0\n",
    "\n",
    "str_len_list"
   ]
  },
  {
   "cell_type": "code",
   "execution_count": 70,
   "metadata": {},
   "outputs": [
    {
     "name": "stdout",
     "output_type": "stream",
     "text": [
      "3\n",
      "[3, 2, 9]\n",
      "3\n",
      "[2, 9, 9]\n",
      "[2, 9, 9]\n"
     ]
    },
    {
     "data": {
      "text/plain": [
       "299"
      ]
     },
     "execution_count": 70,
     "metadata": {},
     "output_type": "execute_result"
    }
   ],
   "source": [
    "#738 单调递增的数字\n",
    "\n",
    "N=332\n",
    "\n",
    "digit_list=[int(i) for i in list(str(N))]\n",
    "pre=digit_list[len(digit_list)-1]\n",
    "final_change_index=len(digit_list)-1\n",
    "\n",
    "#注意遍历顺序，是从后往前遍历；因为从前往后遍历的化，后面的修改会影响前面的顺序 eg：332\n",
    "for i in range(len(digit_list)-2,-1,-1):\n",
    "    cur=digit_list[i]\n",
    "    if cur>pre:\n",
    "        digit_list[i]-=1\n",
    "        digit_list[i+1]=9\n",
    "        final_change_index=i+1\n",
    "    pre=digit_list[i]\n",
    "\n",
    "final_change_index+=1\n",
    "\n",
    "for j in range(final_change_index,len(digit_list)):\n",
    "    digit_list[j]=9\n",
    "\n",
    "num=\"\"\n",
    "for i in digit_list:\n",
    "    num=num+str(i)\n",
    "num=int(num)\n",
    "\n",
    "\n",
    "num"
   ]
  },
  {
   "cell_type": "code",
   "execution_count": 15,
   "metadata": {},
   "outputs": [
    {
     "data": {
      "text/plain": [
       "[['.Q..', '...Q', 'Q...', '..Q.'], ['..Q.', 'Q...', '...Q', '.Q..']]"
      ]
     },
     "execution_count": 15,
     "metadata": {},
     "output_type": "execute_result"
    }
   ],
   "source": [
    "num_list=[1,2,3]\n",
    "num_list.remove(2)\n",
    "num_list"
   ]
  },
  {
   "cell_type": "code",
   "execution_count": 21,
   "metadata": {},
   "outputs": [
    {
     "data": {
      "text/plain": [
       "[]"
      ]
     },
     "execution_count": 21,
     "metadata": {},
     "output_type": "execute_result"
    }
   ],
   "source": [
    "#51 N，不输出具体的Queen的放置方法，只输出方法的数量皇后\n",
    "\n",
    "n=4\n",
    "solution=[]\n",
    "final_solution=[]\n",
    "num_list=[i for i in range(1,n+1)]\n",
    "\n",
    "#判断出于当前行当前列的Queen是否会和前面任意一行的Queen处在同一对角线上\n",
    "#有个坑，python2 计算3/2=1，python3计算3/2=1.5\n",
    "def checkDiagonal(pre_solution,cur_col,cur_row):\n",
    "    flag=True\n",
    "    for i in range(len(pre_solution)):\n",
    "        if abs((cur_col-pre_solution[i])/(cur_row-(i+1)))==1:\n",
    "            flag=False\n",
    "            break\n",
    "    return flag\n",
    "\n",
    "def backTracking(num_set,pre_col,pre_solution):\n",
    "\n",
    "    for j in num_set:\n",
    "        copy_pre_solution=[k for k in pre_solution]\n",
    "        #当前行的Queen所在列与前一行的Queen所在列 间隔>=2\n",
    "        if checkDiagonal(pre_solution,j,n-len(num_set)+1)==True:\n",
    "            copy_pre_solution.append(j)\n",
    "            #处于叶子节点\n",
    "            if len(num_set)==1:\n",
    "                solution\n",
    "            #不处于叶子节点.append(copy_pre_solution)\n",
    "            else:\n",
    "                backTracking(set(num_set)-set([j]),j,copy_pre_solution)\n",
    "\n",
    "for i in num_list:\n",
    "    if n==1:\n",
    "        solution.append([1])\n",
    "    else:\n",
    "        cur_solution=[i]\n",
    "        backTracking(set(num_list)-set([i]),i,cur_solution)\n",
    "\n",
    "for temp_solution in solution:\n",
    "    temp_final_solution=[\"\".join([\".\" if j != i else \"Q\" for j in range(1,n+1)]) for i in temp_solution]\n",
    "    final_solution.append(temp_final_solution)\n",
    "\n",
    "final_solution"
   ]
  },
  {
   "cell_type": "code",
   "execution_count": 7,
   "metadata": {},
   "outputs": [
    {
     "data": {
      "text/plain": [
       "False"
      ]
     },
     "execution_count": 7,
     "metadata": {},
     "output_type": "execute_result"
    }
   ],
   "source": [
    "#665  非递减序列\n",
    "\n",
    "nums=[3,4,2,3]\n",
    "num=0\n",
    "pre=nums[0]\n",
    "\n",
    "for i in nums[1:]:\n",
    "    if i-pre<0:\n",
    "        num+=1\n",
    "    pre=i\n",
    "\n",
    "if num>1:\n",
    "    result=False\n",
    "else:\n",
    "    result=True\n",
    "result"
   ]
  },
  {
   "cell_type": "code",
   "execution_count": 10,
   "metadata": {},
   "outputs": [
    {
     "data": {
      "text/plain": [
       "[[1, 2], [1, 3], [1, 4], [2, 3], [2, 4], [3, 4]]"
      ]
     },
     "execution_count": 10,
     "metadata": {},
     "output_type": "execute_result"
    }
   ],
   "source": [
    "#77 组合，给定n和k，返回1-n中所有可能的k个数的组合\n",
    "n=4\n",
    "k=2\n",
    "\n",
    "solution=[]\n",
    "temp_solution=[]\n",
    "\n",
    "\n",
    "def backTracking(start_index,pre_solution):\n",
    "    for j in range(start_index,n+1):\n",
    "        pre_solution.append(j)\n",
    "        #剪枝！！！！！！！！！时间明显优化！！！！\n",
    "        #剪枝思路：如果还需要填入的数的数量 大于 剩余可以选的数的数量（可选的数不够了）\n",
    "        if k-len(pre_solution)>n-j:\n",
    "            return \n",
    "        if len(pre_solution)==k:\n",
    "            copy_solution=pre_solution[:]\n",
    "            solution.append(copy_solution)\n",
    "        else:\n",
    "            backTracking(j+1,pre_solution[:])\n",
    "        pre_solution.remove(j)\n",
    "\n",
    "backTracking(1,temp_solution)\n",
    "solution"
   ]
  },
  {
   "cell_type": "code",
   "execution_count": 37,
   "metadata": {},
   "outputs": [
    {
     "data": {
      "text/plain": [
       "[[1, 2, 6], [1, 3, 5], [2, 3, 4]]"
      ]
     },
     "execution_count": 37,
     "metadata": {},
     "output_type": "execute_result"
    }
   ],
   "source": [
    "# 216 组合求和Ⅲ\n",
    "# 找出所有相加之和为n的k个数的组合。组合中只允许含有1-9的正整数\n",
    "\n",
    "# 第一层的选择 1,2...,n\n",
    "\n",
    "# 假设第一层选2\n",
    "\n",
    "# 第二层的选择：3,4...,n-2\n",
    "\n",
    "# 假设第二层选3\n",
    "\n",
    "#第三层的选择：4...,n-5\n",
    "\n",
    "k=3\n",
    "n=9\n",
    "\n",
    "solution=[]\n",
    "temp_solution=[]\n",
    "back_list=list(range(1,10))\n",
    "\n",
    "def backTracking(selecting_list,pre_solution):\n",
    "    for i in selecting_list:\n",
    "        pre_solution.append(i)\n",
    "\n",
    "        #剪枝优化处理，如果当前和大于n，直接退出当前一层的递归，返回上一层\n",
    "        if sum(pre_solution)>n:\n",
    "            pre_solution.remove(i)\n",
    "            return\n",
    "        #找到了\n",
    "        #有一个坑，每次要把当前找到的解重新copy一遍（列表名称是对象的引用！！）\n",
    "        # 否则进入下一个循环后可能会把已有的解修改了！！！！\n",
    "        if (len(pre_solution)==k)&(sum(pre_solution)==n):\n",
    "            copy_solution=pre_solution[:]\n",
    "            solution.append(copy_solution)\n",
    "        \n",
    "        #没找到，到下一层查找\n",
    "        else:\n",
    "            backTracking(list(range(i+1,10)),pre_solution[:])\n",
    "        pre_solution.remove(i)\n",
    "\n",
    "backTracking(back_list,temp_solution)\n",
    "\n",
    "solution\n"
   ]
  },
  {
   "cell_type": "code",
   "execution_count": 39,
   "metadata": {},
   "outputs": [
    {
     "data": {
      "text/plain": [
       "['ad', 'ae', 'af', 'bd', 'be', 'bf', 'cd', 'ce', 'cf']"
      ]
     },
     "execution_count": 39,
     "metadata": {},
     "output_type": "execute_result"
    }
   ],
   "source": [
    "#17  电话号码的字母组合\n",
    "\n",
    "mapping_dic={ \"2\":[\"a\",\"b\",\"c\"],\n",
    "              \"3\":[\"d\",\"e\",\"f\"],\n",
    "              \"4\":[\"g\",\"h\",\"i\"],\n",
    "              \"5\":[\"j\",\"k\",\"l\"],\n",
    "              \"6\":[\"m\",\"n\",\"o\"],\n",
    "              \"7\":[\"p\",\"q\",\"r\",\"s\"],\n",
    "              \"8\":[\"t\",\"u\",\"v\"],\n",
    "              \"9\":[\"w\",\"x\",\"y\",\"z\"]}\n",
    "digits=\"23\"\n",
    "solution=[]\n",
    "\n",
    "def backTracking(index,pre_solution):\n",
    "    if index==len(digits):\n",
    "        solution.append(pre_solution[:])\n",
    "        return\n",
    "    \n",
    "    for i in mapping_dic[digits[index]]:\n",
    "        pre_solution.append(i)\n",
    "        backTracking(index+1,pre_solution[:])\n",
    "        pre_solution.pop()\n",
    "\n",
    "backTracking(0,[])\n",
    "final_solution=[\"\".join(i) for i in solution]\n",
    "final_solution"
   ]
  },
  {
   "cell_type": "code",
   "execution_count": 6,
   "metadata": {},
   "outputs": [
    {
     "data": {
      "text/plain": [
       "[[2, 2, 3], [7]]"
      ]
     },
     "execution_count": 6,
     "metadata": {},
     "output_type": "execute_result"
    }
   ],
   "source": [
    "#组合Ⅰ   待解决！\n",
    "candidates=[2,3,6,7]\n",
    "target=7\n",
    "solution=[]\n",
    "\n",
    "def backTracking(pre_solution,residual):\n",
    "    for i in candidates:\n",
    "\n",
    "        if residual-i<0:\n",
    "            continue\n",
    "\n",
    "        pre_solution.append(i)\n",
    "\n",
    "        if residual-i==0:\n",
    "            sorted_solution=sorted(pre_solution)\n",
    "            if sorted_solution not in solution:\n",
    "                solution.append(sorted_solution)\n",
    "        elif residual-i>0:\n",
    "            backTracking(pre_solution[:],residual-i)\n",
    "        pre_solution.pop()\n",
    "\n",
    "backTracking([],target)\n",
    "solution\n",
    "\n"
   ]
  },
  {
   "cell_type": "code",
   "execution_count": 37,
   "metadata": {},
   "outputs": [
    {
     "data": {
      "text/plain": [
       "[[1, 1, 6], [1, 2, 5], [1, 7], [2, 6]]"
      ]
     },
     "execution_count": 37,
     "metadata": {},
     "output_type": "execute_result"
    }
   ],
   "source": [
    "# 组合Ⅱ  每个数字只能用一次\n",
    "\n",
    "candidates=[10,1,2,7,6,1,5]\n",
    "target=8\n",
    "candidates.sort()\n",
    "solution=[]\n",
    "\n",
    "def backTracking(start_index,pre_solution,residual):\n",
    "\n",
    "    for i in range(start_index,len(candidates)):\n",
    "\n",
    "        #剪枝操作，如果当前数和前一个数一样，那么这一分支不必考虑\n",
    "        #可以这么考虑：设当前数为a，前一个数为b，a==b\n",
    "        #那么，a这个分支下的子集为S，b这个分支下的子集为S∪{a}\n",
    "        #则a分支中的一组解肯定在b分支中！\n",
    "        if (i>start_index)&(candidates[i]==candidates[i-1]):\n",
    "            continue\n",
    "\n",
    "        pre_solution.append(candidates[i])\n",
    "        if residual-candidates[i]==0:\n",
    "            solution.append(pre_solution[:])\n",
    "        elif residual-candidates[i]>0:\n",
    "            backTracking(i+1,pre_solution[:],residual-candidates[i])\n",
    "        pre_solution.pop()\n",
    "\n",
    "\n",
    "backTracking(0,[],target)\n",
    "\n",
    "solution\n",
    "\n",
    "        \n",
    "        \n"
   ]
  },
  {
   "cell_type": "code",
   "execution_count": 62,
   "metadata": {},
   "outputs": [
    {
     "data": {
      "text/plain": [
       "[3, 4, 4, 4]"
      ]
     },
     "execution_count": 62,
     "metadata": {},
     "output_type": "execute_result"
    }
   ],
   "source": [
    "#665  非递减数列\n",
    "nums=[3,4,2,3]\n",
    "num=0\n",
    "for i in range(1,len(nums)):\n",
    "    if nums[i]<nums[i-1]:\n",
    "        num+=1\n",
    "        if (i==1)|(nums[i]>=nums[i-2]):\n",
    "            nums[i-1]=nums[i]\n",
    "        else:\n",
    "            nums[i]=nums[i-1]\n",
    "nums\n",
    "\n",
    "\n",
    "\n"
   ]
  },
  {
   "cell_type": "code",
   "execution_count": 29,
   "metadata": {},
   "outputs": [
    {
     "data": {
      "text/plain": [
       "[['a', 'a', 'b'], ['aa', 'b']]"
      ]
     },
     "execution_count": 29,
     "metadata": {},
     "output_type": "execute_result"
    }
   ],
   "source": [
    "# 分割回文串\n",
    "s=\"aab\"\n",
    "solution=[]\n",
    "\n",
    "def checkHuiweng(cur_string):\n",
    "    i,j=0,len(cur_string)-1\n",
    "\n",
    "    while(i<j):\n",
    "        if cur_string[i]!=cur_string[j]:\n",
    "            return False\n",
    "        i+=1\n",
    "        j-=1\n",
    "    return True\n",
    "\n",
    "def backTracking(cur_string,pre_solution):\n",
    "    if len(cur_string)==0:\n",
    "        solution.append(pre_solution)\n",
    "    for i in range(0,len(cur_string)):\n",
    "        if checkHuiweng(cur_string[:i+1])==False:\n",
    "            continue\n",
    "        else:\n",
    "            pre_solution.append(cur_string[:i+1])\n",
    "            backTracking(cur_string[i+1:],pre_solution[:])\n",
    "        pre_solution.pop()\n",
    "\n",
    "backTracking(s,[])\n",
    "\n",
    "solution"
   ]
  },
  {
   "cell_type": "code",
   "execution_count": 33,
   "metadata": {},
   "outputs": [
    {
     "name": "stdout",
     "output_type": "stream",
     "text": [
      "1\n"
     ]
    }
   ],
   "source": [
    "#136\n",
    "nums=[2,2,1] \n",
    "dic=dict.fromkeys(nums,0)\n",
    "\n",
    "for i in nums:\n",
    "    dic[i]+=1\n",
    "\n",
    "for i in dic:\n",
    "    if dic[i]==1:\n",
    "        print(i)"
   ]
  },
  {
   "cell_type": "code",
   "execution_count": 35,
   "metadata": {},
   "outputs": [
    {
     "data": {
      "text/plain": [
       "['1.0.10.23', '1.0.102.3', '10.1.0.23', '10.10.2.3', '101.0.2.3']"
      ]
     },
     "execution_count": 35,
     "metadata": {},
     "output_type": "execute_result"
    }
   ],
   "source": [
    "#93  复原IP地址\n",
    "\n",
    "s = \"101023\"\n",
    "solution=[]\n",
    "\n",
    "def backTracking(start_index,pre_solution):\n",
    "\n",
    "    #如果剩余字符串长度==0，且已经保存了4个数字了，说明找到了答案\n",
    "    if (len(s[start_index:])==0)&(len(pre_solution)==4):\n",
    "        solution.append(pre_solution[:])\n",
    "        return\n",
    "    \n",
    "    # 1、如果剩余字符串长度>0，但是已经保存了4个数字了\n",
    "    # 2、如果剩余字符串长度==0，但是还没有保存4个数字\n",
    "    # 退回上一层节点\n",
    "    if (( (len(s[start_index:])>0)  & (len(pre_solution)==4)))| \\\n",
    "       (( (len(s[start_index:])==0) & (len(pre_solution)<4) )):\n",
    "        return\n",
    "    \n",
    "    #如果当前字符为0，那么直接从下一位字符开始回溯\n",
    "    if s[start_index]==\"0\":\n",
    "        pre_solution.append(int(s[start_index]))\n",
    "        backTracking(start_index+1,pre_solution[:])\n",
    "\n",
    "    else:\n",
    "        #剪枝操作，只往后最多取3位\n",
    "        for i in range(start_index,min(start_index+3,len(s))):\n",
    "            num=int(s[start_index:i+1])\n",
    "            pre_solution.append(num)\n",
    "            if (num>0)&(num<=255):\n",
    "                backTracking(i+1,pre_solution[:])\n",
    "            pre_solution.pop()\n",
    "\n",
    "\n",
    "backTracking(0,[])\n",
    "final_solution=[\".\".join([str(j) for j in i]) for i in solution]\n",
    "final_solution"
   ]
  },
  {
   "cell_type": "code",
   "execution_count": 42,
   "metadata": {},
   "outputs": [
    {
     "data": {
      "text/plain": [
       "[[], [0]]"
      ]
     },
     "execution_count": 42,
     "metadata": {},
     "output_type": "execute_result"
    }
   ],
   "source": [
    "#78 子集\n",
    "nums=[0]\n",
    "solution=[]\n",
    "\n",
    "def backTracking(start_index,pre_solution):\n",
    "\n",
    "    solution.append(pre_solution[:])\n",
    "    for i in range(start_index,len(nums)):\n",
    "        pre_solution.append(nums[i])\n",
    "        backTracking(i+1,pre_solution[:])\n",
    "        pre_solution.pop()\n",
    "\n",
    "backTracking(0,[])\n",
    "solution"
   ]
  },
  {
   "cell_type": "code",
   "execution_count": 2,
   "metadata": {},
   "outputs": [
    {
     "data": {
      "text/plain": [
       "[[], [1], [2], [1, 2], [2, 2], [1, 2, 2]]"
      ]
     },
     "execution_count": 2,
     "metadata": {},
     "output_type": "execute_result"
    }
   ],
   "source": [
    "# 90 子集Ⅱ\n",
    "# 位操作\n",
    "\n",
    "nums=[1,2,2]\n",
    "solution=[]\n",
    "size=len(nums)\n",
    "\n",
    "#外层循环，找遍所有的子集，用2进制数表示，0表示不取，1表示取\n",
    "for i in range(1<<size):\n",
    "    temp_solution= []\n",
    "    #内层循环，判断当前2进制数的每1位是否是1，如果是1，就放入\n",
    "    for j in range(size):\n",
    "        if (i&(1<<j))!=0:\n",
    "            temp_solution.append(nums[j])\n",
    "    if temp_solution not in solution:\n",
    "        solution.append(temp_solution[:])\n",
    "solution"
   ]
  },
  {
   "cell_type": "code",
   "execution_count": 9,
   "metadata": {},
   "outputs": [
    {
     "data": {
      "text/plain": [
       "[[], [1], [1, 2], [1, 2, 2], [2], [2, 2]]"
      ]
     },
     "execution_count": 9,
     "metadata": {},
     "output_type": "execute_result"
    }
   ],
   "source": [
    "#90 子集Ⅱ  \n",
    "#回溯解法, \n",
    "\n",
    "nums=[2,1,2]\n",
    "solution=[]\n",
    "nums.sort()\n",
    "def backTracking(start_index,pre_solution):\n",
    "    solution.append(pre_solution[:])\n",
    "    for i in range(start_index,len(nums)):\n",
    "\n",
    "        #剪枝操作，有重复的元素，要去掉，思路同 组合Ⅱ\n",
    "        if (i>start_index)&(nums[i]==nums[i-1]):\n",
    "            continue\n",
    "        pre_solution.append(nums[i])\n",
    "        backTracking(i+1,pre_solution[:])\n",
    "        pre_solution.pop()\n",
    "\n",
    "backTracking(0,[])\n",
    "solution"
   ]
  },
  {
   "cell_type": "code",
   "execution_count": null,
   "metadata": {},
   "outputs": [],
   "source": [
    "#104 二叉树的最大深度\n",
    "\n",
    "#总体思路：\n",
    "#如果当前节点为None,则返回0\n",
    "#不然，则递归地去考察左右子树的深度，取大的，+1\n",
    "\n",
    "def getHeight(root):\n",
    "    if root==None:\n",
    "        return 0\n",
    "    else:\n",
    "        height_right=getHeight(root.right)\n",
    "        height_left=getHeight(root.left)\n",
    "        return max(height_right,height_left)+1"
   ]
  }
 ],
 "metadata": {
  "kernelspec": {
   "display_name": "Python 3",
   "language": "python",
   "name": "python3"
  },
  "language_info": {
   "codemirror_mode": {
    "name": "ipython",
    "version": 3
   },
   "file_extension": ".py",
   "mimetype": "text/x-python",
   "name": "python",
   "nbconvert_exporter": "python",
   "pygments_lexer": "ipython3",
   "version": "3.7.3-final"
  },
  "orig_nbformat": 2
 },
 "nbformat": 4,
 "nbformat_minor": 2
}