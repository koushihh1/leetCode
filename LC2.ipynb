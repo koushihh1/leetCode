{
 "metadata": {
  "language_info": {
   "codemirror_mode": {
    "name": "ipython",
    "version": 3
   },
   "file_extension": ".py",
   "mimetype": "text/x-python",
   "name": "python",
   "nbconvert_exporter": "python",
   "pygments_lexer": "ipython3",
   "version": "3.7.3-final"
  },
  "orig_nbformat": 2,
  "kernelspec": {
   "name": "python3",
   "display_name": "Python 3",
   "language": "python"
  }
 },
 "nbformat": 4,
 "nbformat_minor": 2,
 "cells": [
  {
   "cell_type": "code",
   "execution_count": 6,
   "metadata": {},
   "outputs": [
    {
     "output_type": "execute_result",
     "data": {
      "text/plain": [
       "[[7, 0], [7, 1], [6, 1], [5, 0], [5, 2], [4, 4]]"
      ]
     },
     "metadata": {},
     "execution_count": 6
    }
   ],
   "source": [
    "#406 根据身高重建队列\n",
    "\n",
    "people = [[7,0],[4,4],[7,1],[5,0],[6,1],[5,2]]\n",
    "\n",
    "new_people=sorted(people,key=lambda x:x[0], reverse=True)\n",
    "new_people"
   ]
  },
  {
   "cell_type": "code",
   "execution_count": 24,
   "metadata": {},
   "outputs": [
    {
     "output_type": "execute_result",
     "data": {
      "text/plain": [
       "[[3, 0],\n",
       " [6, 0],\n",
       " [7, 0],\n",
       " [5, 2],\n",
       " [3, 4],\n",
       " [5, 3],\n",
       " [6, 2],\n",
       " [2, 7],\n",
       " [9, 0],\n",
       " [1, 9]]"
      ]
     },
     "metadata": {},
     "execution_count": 24
    }
   ],
   "source": [
    "people = [[9,0],[7,0],[1,9],[3,0],[2,7],[5,3],[6,0],[3,4],[6,2],[5,2]]\n",
    "new_people=sorted(people,key=lambda x:(-x[0],x[1]))\n",
    "\n",
    "index_list=[i for i in range(len(people))]\n",
    "final_list=[0 for i in range(len(people))]\n",
    "\n",
    "for i in new_people[::-1]:\n",
    "    position=index_list.pop(i[1])\n",
    "    final_list[position]=i\n",
    "\n",
    "final_list"
   ]
  },
  {
   "cell_type": "code",
   "execution_count": 22,
   "metadata": {},
   "outputs": [
    {
     "output_type": "stream",
     "name": "stdout",
     "text": [
      "[[7, 8, 3], [4, 1, 0], [4, 2, 9], [1, 5, 6]]\n"
     ]
    }
   ],
   "source": [
    "list1 = [[4, 2, 9], [1, 5, 6], [7, 8, 3],[4, 1, 0]]\n",
    "#一次排序\n",
    "new_list = sorted(list1, key=lambda k: k[0], reverse=True)\n",
    "#二次排序\n",
    "new_list = sorted(list1, key=lambda k: (-k[0],k[1]))\n",
    "print(new_list)"
   ]
  },
  {
   "cell_type": "code",
   "execution_count": 13,
   "metadata": {},
   "outputs": [
    {
     "output_type": "stream",
     "name": "stdout",
     "text": [
      "[0, 6]\n--------------\n[2, 6]\n--------------\n[2, 6]\n--------------\n[3, 6]\n--------------\n[3, 6]\n--------------\n[3, 6]\n--------------\n[6, 6]\n--------------\n[7, 12]\n--------------\n[9, 10]\n--------------\n"
     ]
    },
    {
     "output_type": "execute_result",
     "data": {
      "text/plain": [
       "2"
      ]
     },
     "metadata": {},
     "execution_count": 13
    }
   ],
   "source": [
    "#452 用最少数量的箭射爆气球\n",
    "\n",
    "points = [[3,9],[7,12],[3,8],[6,8],[9,10],[2,9],[0,9],[3,9],[0,6],[2,8]]\n",
    "\n",
    "new_points=sorted(points,key=lambda x:(x[0]))\n",
    "pre_ball=new_points[0]\n",
    "num=1\n",
    "range_list=new_points[0]\n",
    "\n",
    "for i in range(1,len(points)):\n",
    "    cur_ball=new_points[i]\n",
    "    if cur_ball[0]>range_list[1]:\n",
    "        num+=1\n",
    "        range_list=cur_ball\n",
    "        \n",
    "    else:\n",
    "        range_list=[max(cur_ball[0],range_list[0]),min(cur_ball[1],range_list[1])]\n",
    "    \n",
    "    print(range_list)\n",
    "    print(\"--------------\")\n",
    "\n",
    "num"
   ]
  },
  {
   "cell_type": "code",
   "execution_count": 22,
   "metadata": {},
   "outputs": [
    {
     "output_type": "execute_result",
     "data": {
      "text/plain": [
       "187"
      ]
     },
     "metadata": {},
     "execution_count": 22
    }
   ],
   "source": [
    "#435 无重叠区间\n",
    "\n",
    "intervals= [[1,2]]\n",
    "if len(intervals)==0:\n",
    "    num=0\n",
    "else:\n",
    "    intervals=sorted(intervals,key=lambda x:x[1])\n",
    "    num=0\n",
    "    pre=intervals[0]\n",
    "\n",
    "\n",
    "    for i in range(1,len(intervals)):\n",
    "        if intervals[i][0]>=pre[1]:\n",
    "            pre=intervals[i]\n",
    "        else:\n",
    "            num+=1\n",
    "num"
   ]
  },
  {
   "cell_type": "code",
   "execution_count": 32,
   "metadata": {},
   "outputs": [
    {
     "output_type": "execute_result",
     "data": {
      "text/plain": [
       "[[1, 4]]"
      ]
     },
     "metadata": {},
     "execution_count": 32
    }
   ],
   "source": [
    "#56合并区间\n",
    "\n",
    "intervals = [[1,4],[2,3]]\n",
    "result=[]\n",
    "\n",
    "intervals=sorted(intervals,key=lambda x:(x[0],x[1]))\n",
    "pre=intervals[0]\n",
    "\n",
    "for i in intervals[1:]:\n",
    "    if i[0]>pre[1]:\n",
    "        result.append(pre)\n",
    "        pre=i\n",
    "    else:\n",
    "        if (i[0]<=pre[1])&(i[1]>pre[1]):\n",
    "            pre=[pre[0],i[1]]\n",
    "result.append(pre)\n",
    "result\n",
    "    \n"
   ]
  }
 ]
}