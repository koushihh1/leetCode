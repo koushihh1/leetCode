{
 "cells": [
  {
   "cell_type": "code",
   "execution_count": 2,
   "metadata": {},
   "outputs": [
    {
     "name": "stdout",
     "output_type": "stream",
     "text": [
      "[[3], [9, 20], [15, 7]]\n"
     ]
    },
    {
     "data": {
      "text/plain": "[[3], [9, 20], [15, 7]]"
     },
     "execution_count": 2,
     "metadata": {},
     "output_type": "execute_result"
    }
   ],
   "source": [
    "class TreeNode:\r\n",
    "    def __init__(self, val=0, left=None, right=None,next_node=None):\r\n",
    "        self.val = val\r\n",
    "        self.left = left\r\n",
    "        self.right = right\r\n",
    "        self.next_node = next_node\r\n",
    "    def show(self):\r\n",
    "        print(\"value:\",self.val)\r\n",
    "        print(\"left:\",self.left)\r\n",
    "        print(\"right:\",self.right)\r\n",
    "\r\n",
    "#[5,4,8,11,None,13,4,7,2,None,None,None,None,5,1]\r\n",
    "def buildTree(index,len_tree,tree):\r\n",
    "    if tree[index] is None:\r\n",
    "        return None\r\n",
    "\r\n",
    "    cur_node=TreeNode(tree[index])\r\n",
    "    if index*2+1<len_tree:\r\n",
    "        cur_node.left=buildTree(index*2+1,len_tree,tree[:])\r\n",
    "    if index*2+2<len_tree:\r\n",
    "        cur_node.right=buildTree(index*2+2,len_tree,tree[:])\r\n",
    "    return cur_node\r\n",
    "\r\n",
    "#先序遍历\r\n",
    "def preOrderTraversal(root):\r\n",
    "    if root is None:\r\n",
    "        return\r\n",
    "    else:\r\n",
    "        print(root.val)\r\n",
    "        preOrderTraversal(root.left)\r\n",
    "        preOrderTraversal(root.right)\r\n",
    "\r\n",
    "#层序遍历\r\n",
    "def levelTraversal(root):\r\n",
    "    if root is None:\r\n",
    "        return []\r\n",
    "    queue=[]\r\n",
    "    solution=[]\r\n",
    "    queue.append(root)\r\n",
    "\r\n",
    "    while len(queue)>0:\r\n",
    "\r\n",
    "        temp_solution=[]\r\n",
    "        for i in range(len(queue)):\r\n",
    "            temp_solution.append(queue[0].val)\r\n",
    "            if queue[0].left is not None:\r\n",
    "                queue.append(queue[0].left)\r\n",
    "            if queue[0].right is not None:\r\n",
    "                queue.append(queue[0].right)\r\n",
    "            queue.pop(0)\r\n",
    "        solution.append(temp_solution[:])\r\n",
    "    print(solution)\r\n",
    "    return solution\r\n",
    "\r\n",
    "tree= [3,9,20,None,None,15,7]\r\n",
    "root=buildTree(0,len(tree),tree[:])\r\n",
    "levelTraversal(root)\r\n"
   ]
  },
  {
   "cell_type": "code",
   "execution_count": 1,
   "metadata": {},
   "outputs": [
    {
     "ename": "NameError",
     "evalue": "name 'root' is not defined",
     "output_type": "error",
     "traceback": [
      "\u001b[1;31m---------------------------------------------------------------------------\u001b[0m",
      "\u001b[1;31mNameError\u001b[0m                                 Traceback (most recent call last)",
      "\u001b[1;32m<ipython-input-1-1d9947fba7a1>\u001b[0m in \u001b[0;36m<module>\u001b[1;34m\u001b[0m\n\u001b[0;32m     21\u001b[0m             \u001b[1;32mreturn\u001b[0m \u001b[1;32mFalse\u001b[0m\u001b[1;33m\u001b[0m\u001b[1;33m\u001b[0m\u001b[0m\n\u001b[0;32m     22\u001b[0m \u001b[1;33m\u001b[0m\u001b[0m\n\u001b[1;32m---> 23\u001b[1;33m \u001b[0mcheckBST\u001b[0m\u001b[1;33m(\u001b[0m\u001b[0mroot\u001b[0m\u001b[1;33m)\u001b[0m\u001b[1;33m\u001b[0m\u001b[1;33m\u001b[0m\u001b[0m\n\u001b[0m\u001b[0;32m     24\u001b[0m \u001b[1;33m\u001b[0m\u001b[0m\n",
      "\u001b[1;31mNameError\u001b[0m: name 'root' is not defined"
     ]
    }
   ],
   "source": [
    "# 96 验证二叉搜索树\r\n",
    "\r\n",
    "def checkBST(root):\r\n",
    "\r\n",
    "    if not root.left and not root.right:\r\n",
    "        return True\r\n",
    "    elif not root.left:\r\n",
    "        if root.val<root.right.val:\r\n",
    "            return checkBST(root.right)\r\n",
    "        else:\r\n",
    "            return False\r\n",
    "    elif not root.right:\r\n",
    "        if root.val>root.left.val:\r\n",
    "            return checkBST(root.left)\r\n",
    "        else:\r\n",
    "            return False\r\n",
    "    else:\r\n",
    "        if (root.val>root.left.val) and (root.val<root.right.val):\r\n",
    "            return checkBST(root.left) and checkBST(root.right)\r\n",
    "        else:\r\n",
    "            return False\r\n",
    "\r\n",
    "checkBST(root)\r\n",
    "\r\n"
   ]
  },
  {
   "cell_type": "code",
   "execution_count": 55,
   "metadata": {},
   "outputs": [
    {
     "name": "stdout",
     "output_type": "stream",
     "text": [
      "[[1], [2, 2], [3, 4, 4, 3]]\n"
     ]
    },
    {
     "data": {
      "text/plain": "True"
     },
     "execution_count": 55,
     "metadata": {},
     "output_type": "execute_result"
    }
   ],
   "source": [
    "\r\n",
    "#101  对称二叉树\r\n",
    "\r\n",
    "def checkDuicheng(left,right):\r\n",
    "\r\n",
    "    if not left and not right:\r\n",
    "        return True\r\n",
    "    if not left or not right:\r\n",
    "        return False\r\n",
    "    if left.val != right.val:\r\n",
    "        return False\r\n",
    "    else:\r\n",
    "        return checkDuicheng(left.left,right.right) and checkDuicheng(left.right,right.left)\r\n",
    "\r\n",
    "node_list=[1,2,2,3,4,4,3]\r\n",
    "root=buildTree(0,len(node_list),node_list)\r\n",
    "levelTraversal(root)\r\n",
    "checkDuicheng(root.left,root.right)\r\n",
    "    "
   ]
  },
  {
   "cell_type": "code",
   "execution_count": 8,
   "metadata": {},
   "outputs": [
    {
     "name": "stdout",
     "output_type": "stream",
     "text": [
      "[[0], [-3, 9], [-10, 5]]\n"
     ]
    },
    {
     "data": {
      "text/plain": "[[0], [-3, 9], [-10, 5]]"
     },
     "execution_count": 8,
     "metadata": {},
     "output_type": "execute_result"
    }
   ],
   "source": [
    "\r\n",
    "#108  将有序数组转换为平衡BST\r\n",
    "\r\n",
    "#关键点：每次都将\r\n",
    "def buildAVL(node_list):\r\n",
    "    if len(node_list)==0:\r\n",
    "        return \r\n",
    "    if len(node_list)==1:\r\n",
    "        return TreeNode(node_list[0])\r\n",
    "\r\n",
    "    mid_index=int(len(node_list)/2)\r\n",
    "    root=TreeNode(node_list[mid_index])\r\n",
    "    root.left=buildAVL(node_list[:mid_index])\r\n",
    "    root.right=buildAVL(node_list[mid_index+1:])\r\n",
    "    return root\r\n",
    "\r\n",
    "root=buildAVL([-10,-3,0,5,9])\r\n",
    "levelTraversal(root)"
   ]
  },
  {
   "cell_type": "code",
   "execution_count": 41,
   "metadata": {},
   "outputs": [
    {
     "data": {
      "text/plain": "False"
     },
     "execution_count": 41,
     "metadata": {},
     "output_type": "execute_result"
    }
   ],
   "source": [
    "#110 判断一棵二叉树是否为平衡二叉树\r\n",
    "\r\n",
    "flag=True\r\n",
    "\r\n",
    "def calHeight(root):\r\n",
    "    global flag\r\n",
    "    if not root:\r\n",
    "        return 0\r\n",
    "    else:\r\n",
    "        height_right=calHeight(root.right)+1\r\n",
    "        height_left=calHeight(root.left)+1\r\n",
    "\r\n",
    "        if abs(height_right-height_left)>1:\r\n",
    "            flag=False\r\n",
    "\r\n",
    "        return max(height_left,height_right)\r\n",
    "\r\n",
    "node_list=[1,2,2,3,3,None,None,4,4]\r\n",
    "root=buildTree(0,len(node_list),node_list)\r\n",
    "calHeight(root)\r\n",
    "flag\r\n"
   ]
  },
  {
   "cell_type": "code",
   "execution_count": 42,
   "metadata": {},
   "outputs": [
    {
     "data": {
      "text/plain": "-1"
     },
     "execution_count": 42,
     "metadata": {},
     "output_type": "execute_result"
    }
   ],
   "source": [
    "#110 优化   自底向上 考察左右子树的高度    后序遍历\r\n",
    "\r\n",
    "def calHeight(root):\r\n",
    "    if not root:\r\n",
    "        return 0\r\n",
    "    else:\r\n",
    "        left=calHeight(root.left)\r\n",
    "        if left==-1:\r\n",
    "            return -1\r\n",
    "        right=calHeight(root.right)\r\n",
    "        if right==-1:\r\n",
    "            return -1\r\n",
    "\r\n",
    "        return max(right,left)+1 if abs(right-left)<=1 else -1\r\n",
    "\r\n",
    "calHeight(root)"
   ]
  },
  {
   "cell_type": "code",
   "execution_count": 17,
   "metadata": {},
   "outputs": [],
   "source": [
    "# 112. 路径总和\n",
    "\n",
    "def findRoad(root,targetSum,cur_sum,flag):\n",
    "    if (root.left is None)&(root.right is None):\n",
    "        if cur_sum+root.val==targetSum:\n",
    "            return True\n",
    "        else:\n",
    "            return False\n",
    "    else:\n",
    "        if (root.left is not None)&(flag==False):\n",
    "            flag=findRoad(root.left,targetSum,cur_sum+root.val,flag)\n",
    "        if (root.right is not None)&(flag==False):\n",
    "            flag=findRoad(root.right,targetSum,cur_sum+root.val,flag)\n",
    "        return flag\n",
    "\n",
    "print(findRoad(root,0,0,False))"
   ]
  },
  {
   "cell_type": "code",
   "execution_count": 48,
   "metadata": {},
   "outputs": [],
   "source": [
    "#112.路径总和   官方解法！！！！！！\n",
    "\n",
    "targetSum=5\n",
    "\n",
    "def findRoad(root,cur_target):\n",
    "\n",
    "    #如果当前节点的父节点不是叶子节点，也返回False,牛！\n",
    "    if root is None:\n",
    "        return False\n",
    "\n",
    "    if (root.left is None)&(root.right is None):\n",
    "        return cur_target==root.val\n",
    "    else:\n",
    "        return (findRoad(root.left,cur_target-root.val)|findRoad(root.right,cur_target-root.val))\n",
    "\n",
    "findRoad(root,targetSum)\n",
    "    \n",
    "    "
   ]
  },
  {
   "cell_type": "code",
   "execution_count": null,
   "metadata": {},
   "outputs": [],
   "source": [
    "#113 路径总和Ⅱ\n",
    "\n",
    "targetSum=22\n",
    "solution=[]\n",
    "\n",
    "def checkSum(root,pre_solution):\n",
    "\n",
    "    pre_solution.append(root.val)\n",
    "    if (root.left is None)&(root.right is None):\n",
    "        print(pre_solution)\n",
    "        if sum(pre_solution)==targetSum:\n",
    "            solution.append(pre_solution[:])\n",
    "\n",
    "    else:\n",
    "        if root.left is not None:\n",
    "            checkSum(root.left, pre_solution[:])\n",
    "        if root.right is not None:\n",
    "            checkSum(root.right,pre_solution[:])\n",
    "\n",
    "checkSum(root,[])\n",
    "solution"
   ]
  },
  {
   "cell_type": "code",
   "execution_count": 3,
   "metadata": {},
   "outputs": [],
   "source": [
    "#114 二叉树转换为链表  方法一\r\n",
    "\r\n",
    "pre_order=[]\r\n",
    "\r\n",
    "def flatten(root):\r\n",
    "    \r\n",
    "    if root is None:\r\n",
    "        return \r\n",
    "    \r\n",
    "    pre_order.append(root)\r\n",
    "    if root.left is not None:\r\n",
    "        flatten(root.left)\r\n",
    "    if root.right is not None:\r\n",
    "        flatten(root.right)\r\n",
    "\r\n",
    "\r\n",
    "\r\n",
    "flatten(root)\r\n",
    "for i in range(len(pre_order)-1):\r\n",
    "    pre_order[i].left=None\r\n",
    "    pre_order[i].right=pre_order[i+1]\r\n",
    "\r\n",
    "pre_order[-1].left=None\r\n",
    "pre_order[-1].right=None\r\n",
    "\r\n",
    "levelTraversal(root)\r\n",
    "\r\n",
    "    "
   ]
  },
  {
   "cell_type": "code",
   "execution_count": 20,
   "metadata": {},
   "outputs": [
    {
     "name": "stdout",
     "output_type": "stream",
     "text": [
      "4\n",
      "5\n",
      "6\n",
      "7\n"
     ]
    }
   ],
   "source": [
    "#116 填充每个节点的下一个右侧节点指针\r\n",
    "\r\n",
    "def fillNext(root):\r\n",
    "\r\n",
    "    if not root:\r\n",
    "        return []\r\n",
    "    \r\n",
    "    q=[root]\r\n",
    "    while len(q)>0:\r\n",
    "\r\n",
    "        q_size=len(q)\r\n",
    "        for i in range(len(q)):\r\n",
    "\r\n",
    "            #对于每一层，都取出\r\n",
    "            node=q[0]\r\n",
    "            q.pop(0)\r\n",
    "\r\n",
    "            if i<q_size-1:\r\n",
    "                node.next_node=q[0]\r\n",
    "\r\n",
    "            if node.left:\r\n",
    "                q.append(node.left)\r\n",
    "            if node.right:\r\n",
    "                q.append(node.right)\r\n",
    "            \r\n",
    "def newLevelTraversal(root):\r\n",
    "\r\n",
    "    while root:\r\n",
    "        print(root.val)\r\n",
    "        root=root.next_node\r\n",
    "\r\n",
    "\r\n",
    "node_list = [1,2,3,4,5,6,7]\r\n",
    "root=buildTree(0,len(node_list),node_list)\r\n",
    "fillNext(root)\r\n",
    "newLevelTraversal(root.left.left)"
   ]
  },
  {
   "cell_type": "code",
   "execution_count": 25,
   "metadata": {},
   "outputs": [
    {
     "name": "stdout",
     "output_type": "stream",
     "text": [
      "4\n",
      "5\n",
      "6\n",
      "7\n"
     ]
    }
   ],
   "source": [
    "#117. 填充每个节点的下一个右侧节点指针 II  常数空间复杂度\r\n",
    "\r\n",
    "def fillNext(root):\r\n",
    "    \r\n",
    "    if not root:\r\n",
    "        return None\r\n",
    "\r\n",
    "    start=root\r\n",
    "\r\n",
    "    while start:\r\n",
    "\r\n",
    "        #记录当前一层的开始节点\r\n",
    "        level_last=None\r\n",
    "        #记录当前一层的结束节点\r\n",
    "        level_start=None\r\n",
    "        cur_node=start\r\n",
    "        while cur_node:\r\n",
    "            for node in [cur_node.left,cur_node.right]:\r\n",
    "                if node:\r\n",
    "                    if not level_start:\r\n",
    "                        level_start=node\r\n",
    "                    if not level_last:\r\n",
    "                        level_last=node\r\n",
    "                    else:\r\n",
    "                        #将当前一层的结束节点更新为cur_node\r\n",
    "                        level_last.next_node=node\r\n",
    "                        level_last=level_last.next_node\r\n",
    "            cur_node=cur_node.next_node\r\n",
    "\r\n",
    "        start=level_start\r\n",
    "    return start\r\n",
    "\r\n",
    "        \r\n",
    "node_list = [1,2,3,4,5,6,7]\r\n",
    "root=buildTree(0,len(node_list),node_list)\r\n",
    "fillNext(root) \r\n",
    "newLevelTraversal(root.left.left)      \r\n",
    "    "
   ]
  },
  {
   "cell_type": "code",
   "execution_count": 24,
   "metadata": {},
   "outputs": [
    {
     "ename": "AttributeError",
     "evalue": "'NoneType' object has no attribute 'val'",
     "output_type": "error",
     "traceback": [
      "\u001b[1;31m---------------------------------------------------------------------------\u001b[0m",
      "\u001b[1;31mAttributeError\u001b[0m                            Traceback (most recent call last)",
      "\u001b[1;32m<ipython-input-24-1f301a2dbb9e>\u001b[0m in \u001b[0;36m<module>\u001b[1;34m\u001b[0m\n\u001b[0;32m      6\u001b[0m \u001b[1;33m\u001b[0m\u001b[0m\n\u001b[0;32m      7\u001b[0m \u001b[0mtest\u001b[0m\u001b[1;33m(\u001b[0m\u001b[0ma\u001b[0m\u001b[1;33m,\u001b[0m\u001b[0mlevel\u001b[0m\u001b[1;33m)\u001b[0m\u001b[1;33m\u001b[0m\u001b[1;33m\u001b[0m\u001b[0m\n\u001b[1;32m----> 8\u001b[1;33m \u001b[0mlevel\u001b[0m\u001b[1;33m.\u001b[0m\u001b[0mval\u001b[0m\u001b[1;33m\u001b[0m\u001b[1;33m\u001b[0m\u001b[0m\n\u001b[0m",
      "\u001b[1;31mAttributeError\u001b[0m: 'NoneType' object has no attribute 'val'"
     ]
    }
   ],
   "source": [
    "a=TreeNode(1)\r\n",
    "level=None\r\n",
    "\r\n",
    "def test(node_1,start):\r\n",
    "    start=node_1\r\n",
    "\r\n",
    "test(a,level)\r\n",
    "level.val\r\n"
   ]
  },
  {
   "cell_type": "code",
   "execution_count": 4,
   "metadata": {},
   "outputs": [],
   "source": [
    "#114 二叉树转换为链表  方法二!!!!!!!!!!\n",
    "\n",
    "def flatten(root):\n",
    "    if root is None:\n",
    "        return\n",
    "    \n",
    "    flatten(root.left)\n",
    "    flatten(root.right)\n",
    "\n",
    "    pre_right=root.right\n",
    "    root.right=root.left\n",
    "    root.left=None\n",
    "    while root.right is not None:\n",
    "        root=root.right\n",
    "    root.right=pre_right\n",
    "\n",
    "flatten(root)\n",
    "levelTraversal(root)"
   ]
  },
  {
   "cell_type": "code",
   "execution_count": null,
   "metadata": {},
   "outputs": [],
   "source": [
    "#513. 找树左下角的值\n",
    "\n",
    "#层序遍历，修改为 自上而下 自右向左！！，最后一个元素即为最底层最左边的元素\n",
    "\n",
    "def findBottomLeftValue(self, root: TreeNode) -> int:\n",
    "\n",
    "    queue=[root]\n",
    "\n",
    "    while len(queue)>0:\n",
    "        if queue[0].right is not None:\n",
    "            queue.append(queue[0].right)\n",
    "        if queue[0].left is not None:\n",
    "            queue.append(queue[0].left)\n",
    "        final_result=queue[0].val\n",
    "        queue.pop(0)\n",
    "    return final_result"
   ]
  },
  {
   "cell_type": "code",
   "execution_count": 17,
   "metadata": {},
   "outputs": [
    {
     "data": {
      "text/plain": "3"
     },
     "execution_count": 17,
     "metadata": {},
     "output_type": "execute_result"
    }
   ],
   "source": [
    "#559 N叉树的最大深度\r\n",
    "\r\n",
    "def getHeight(root):\r\n",
    "    if not root:\r\n",
    "        return 0\r\n",
    "    else:\r\n",
    "        cur_max_height=0\r\n",
    "        for i in root.children:\r\n",
    "            cur_max_height=max(cur_max_height,getHeight(i))\r\n",
    "        return cur_max_height+1\r\n",
    "\r\n",
    "getHeight(node_1)"
   ]
  },
  {
   "cell_type": "code",
   "execution_count": 6,
   "metadata": {},
   "outputs": [],
   "source": [
    "#589 N叉树的先序遍历\r\n",
    "\r\n",
    "\r\n",
    "class Node_n:\r\n",
    "\r\n",
    "    def __init__(self, val=0, children=[]):\r\n",
    "        self.val = val\r\n",
    "        self.children=children\r\n",
    "\r\n",
    "node_5=Node_n(5)\r\n",
    "node_6=Node_n(6)\r\n",
    "node_3=Node_n(3,[node_5,node_6])\r\n",
    "node_2=Node_n(2)\r\n",
    "node_4=Node_n(4)\r\n",
    "node_1=Node_n(1,[node_3,node_2,node_4])\r\n",
    "\r\n",
    "solution=[]\r\n",
    "\r\n",
    "def preOrderTraversal_n(root):\r\n",
    "    if not root:\r\n",
    "        return\r\n",
    "    else:\r\n",
    "        solution.append(root.val)\r\n",
    "        for i in root.children:\r\n",
    "            preOrderTraversal_n(i)\r\n",
    "preOrderTraversal_n(node_1)\r\n",
    "solution\r\n",
    "\r\n"
   ]
  },
  {
   "cell_type": "code",
   "execution_count": 12,
   "metadata": {},
   "outputs": [
    {
     "data": {
      "text/plain": "[1, 3, 5, 6, 2, 4]"
     },
     "execution_count": 12,
     "metadata": {},
     "output_type": "execute_result"
    }
   ],
   "source": [
    "#589 N叉树的前序遍历   用迭代法！！！  堆栈实现\r\n",
    "\r\n",
    "def preOrderTraversal_n(root):\r\n",
    "    solution=[]\r\n",
    "    stack=[root]\r\n",
    "\r\n",
    "    while len(stack)>0:\r\n",
    "        top_node=stack[-1]\r\n",
    "        stack.pop(-1)\r\n",
    "        stack.extend((top_node.children)[::-1])\r\n",
    "        solution.append(top_node.val)\r\n",
    "    return solution\r\n",
    "\r\n",
    "preOrderTraversal_n(node_1)"
   ]
  },
  {
   "cell_type": "code",
   "execution_count": 15,
   "metadata": {},
   "outputs": [
    {
     "data": {
      "text/plain": "[5, 6, 3, 2, 4, 1]"
     },
     "execution_count": 15,
     "metadata": {},
     "output_type": "execute_result"
    }
   ],
   "source": [
    "# N叉树的后续遍历   堆栈实现！！！！！！！\r\n",
    "def postOrderTraversal_n(root):\r\n",
    "    stack=[root]\r\n",
    "    solution=[]\r\n",
    "\r\n",
    "    while len(stack)>0:\r\n",
    "        top_node=stack[-1]\r\n",
    "        solution.append(top_node.val)\r\n",
    "        stack.pop(-1)\r\n",
    "        stack.extend(top_node.children)\r\n",
    "    solution.reverse()\r\n",
    "    return solution\r\n",
    "\r\n",
    "postOrderTraversal_n(node_1)"
   ]
  },
  {
   "cell_type": "code",
   "execution_count": null,
   "metadata": {},
   "outputs": [],
   "source": []
  },
  {
   "cell_type": "code",
   "execution_count": 10,
   "metadata": {},
   "outputs": [
    {
     "name": "stdout",
     "output_type": "stream",
     "text": [
      "[[6], [2, 8], [0, 4, 7, 9], [3, 5]]\n"
     ]
    },
    {
     "data": {
      "text/plain": "2"
     },
     "execution_count": 10,
     "metadata": {},
     "output_type": "execute_result"
    }
   ],
   "source": [
    "#235  二叉搜索树的最近公共祖先   递归\r\n",
    "\r\n",
    "def findAncestor(root,p,q):\r\n",
    "    if root.val>p.val and root.val>q.val:\r\n",
    "        return findAncestor(root.left,p,q)\r\n",
    "    elif root.val<p.val and root.val<q.val:\r\n",
    "        return findAncestor(root.right,p,q)\r\n",
    "    else:\r\n",
    "        return root.val\r\n",
    "\r\n",
    "    \r\n",
    "node_list=[6,2,8,0,4,7,9,None,None,3,5]\r\n",
    "root=buildTree(0,len(node_list),node_list)\r\n",
    "levelTraversal(root)\r\n",
    "findAncestor(root,TreeNode(2),TreeNode(4))\r\n",
    "\r\n",
    "    "
   ]
  },
  {
   "cell_type": "code",
   "execution_count": 8,
   "metadata": {},
   "outputs": [
    {
     "data": {
      "text/plain": "6"
     },
     "execution_count": 8,
     "metadata": {},
     "output_type": "execute_result"
    }
   ],
   "source": [
    "#235 迭代法\r\n",
    "\r\n",
    "def findAncestor(root,p,q):\r\n",
    "\r\n",
    "    ancestor=root\r\n",
    "\r\n",
    "    while True:\r\n",
    "\r\n",
    "        if root.val>p.val and root.val>q.val:\r\n",
    "            root=root.left\r\n",
    "        elif root.val<p.val and root.val<q.val:\r\n",
    "            root=root.right\r\n",
    "        else:\r\n",
    "            break\r\n",
    "    return ancestor\r\n",
    "\r\n",
    "findAncestor(root,TreeNode(2),TreeNode(8)).val\r\n"
   ]
  },
  {
   "cell_type": "code",
   "execution_count": 3,
   "metadata": {},
   "outputs": [
    {
     "data": {
      "text/plain": "5"
     },
     "execution_count": 3,
     "metadata": {},
     "output_type": "execute_result"
    }
   ],
   "source": [
    "#236  二叉树的最近公共祖先\r\n",
    "\r\n",
    "def findAncestor(root,p,q):\r\n",
    "\r\n",
    "    #如果节点为空，则返回None\r\n",
    "    if not root:\r\n",
    "        return None\r\n",
    "    \r\n",
    "    #如果当前节点等于p或者q，则返回当前节点\r\n",
    "    if root.val==p.val or root.val==q.val:\r\n",
    "        return root\r\n",
    "    \r\n",
    "    left=findAncestor(root.left,p,q)\r\n",
    "    right=findAncestor(root.right,p,q)\r\n",
    "\r\n",
    "    if left and right:\r\n",
    "        return root\r\n",
    "    elif not left and right:\r\n",
    "        return right\r\n",
    "    elif not right and left:\r\n",
    "        return left\r\n",
    "    else:\r\n",
    "        return None\r\n",
    "\r\n",
    "node_list=[3,5,1,6,2,0,8,None,None,7,4]\r\n",
    "root=buildTree(0,len(node_list),node_list)\r\n",
    "findAncestor(root,TreeNode(2),TreeNode(6)).val\r\n",
    "\r\n",
    "\r\n",
    "\r\n",
    "        "
   ]
  },
  {
   "cell_type": "code",
   "execution_count": 27,
   "metadata": {},
   "outputs": [
    {
     "data": {
      "text/plain": "5"
     },
     "execution_count": 27,
     "metadata": {},
     "output_type": "execute_result"
    }
   ],
   "source": [
    "#437  路径总和Ⅲ\r\n",
    "\r\n",
    "num=0\r\n",
    "\r\n",
    "def findRoad(root, target):\r\n",
    "    if not root:\r\n",
    "        return 0\r\n",
    "    if root.val==target:\r\n",
    "        return 1+findRoad(root.left,target)+findRoad(root.right,target)\r\n",
    "    else:\r\n",
    "        return findRoad(root.left,target-root.val)+findRoad(root.right,target-root.val)+\\\r\n",
    "        findRoad(root.left,target)+findRoad(root.right,target)\r\n",
    "\r\n",
    "node_list = [10,5,-3,3,2,None,11,3,-2,None,1]\r\n",
    "root=buildTree(0,len(node_list),node_list)\r\n",
    "findRoad(root,8)\r\n"
   ]
  },
  {
   "cell_type": "code",
   "execution_count": 37,
   "metadata": {},
   "outputs": [
    {
     "name": "stdout",
     "output_type": "stream",
     "text": [
      "[[1], [3, 2], [5, 3, 9]]\n",
      "1\n",
      "[1]\n",
      "2\n",
      "[3, 2]\n",
      "3\n",
      "[5, 3, 9]\n"
     ]
    },
    {
     "data": {
      "text/plain": "[1, 3, 9]"
     },
     "execution_count": 37,
     "metadata": {},
     "output_type": "execute_result"
    }
   ],
   "source": [
    "#找二叉树每一行的最大值\r\n",
    "def findMax(root):\r\n",
    "    if not root:\r\n",
    "        return []\r\n",
    "\r\n",
    "    q=[root]\r\n",
    "    solution=[]\r\n",
    "\r\n",
    "    while len(q)>0:\r\n",
    "        temp_row=[]\r\n",
    "        for i in range(len(q)):\r\n",
    "            temp_row.append(q[0].val)\r\n",
    "            \r\n",
    "            if q[0].left:\r\n",
    "                q.append(q[0].left)\r\n",
    "            if q[0].right:\r\n",
    "                q.append(q[0].right)\r\n",
    "            q.pop(0)\r\n",
    "\r\n",
    "        solution.append(max(temp_row))\r\n",
    "    \r\n",
    "    return solution[:]\r\n",
    "\r\n",
    "node_list=[1,3,2,5,3,None,9]\r\n",
    "root=buildTree(0,len(node_list),node_list)\r\n",
    "levelTraversal(root)\r\n",
    "findMax(root)\r\n"
   ]
  },
  {
   "cell_type": "code",
   "execution_count": 40,
   "metadata": {},
   "outputs": [
    {
     "data": {
      "text/plain": "24"
     },
     "execution_count": 40,
     "metadata": {},
     "output_type": "execute_result"
    }
   ],
   "source": [
    "#404  左叶子之和\r\n",
    "\r\n",
    "def sumLeftLeave(root,pre_side):\r\n",
    "    if not root.left and not root.right and pre_side==-1:\r\n",
    "        result+=root.val\r\n",
    "        return \r\n",
    "    \r\n",
    "    else:\r\n",
    "        if root.left:\r\n",
    "            sumLeftLeave(root.left,-1)\r\n",
    "        if root.right:\r\n",
    "            sumLeftLeave(root.right,1)\r\n",
    "\r\n",
    "\r\n",
    "result=0\r\n",
    "node_list=[3,9,20,None,None,15,7]\r\n",
    "root=buildTree(0,len(node_list),node_list)\r\n",
    "sumLeftLeave(root,0)\r\n",
    "result\r\n",
    "\r\n",
    "\r\n",
    "\r\n",
    "\r\n",
    "        \r\n",
    "\r\n",
    "            \r\n",
    "            "
   ]
  },
  {
   "cell_type": "code",
   "execution_count": 20,
   "metadata": {},
   "outputs": [
    {
     "name": "stdout",
     "output_type": "stream",
     "text": [
      "[[1], [3], [2]]\n"
     ]
    },
    {
     "data": {
      "text/plain": "1"
     },
     "execution_count": 20,
     "metadata": {},
     "output_type": "execute_result"
    }
   ],
   "source": [
    "#530 二叉搜索树的最小绝对值\r\n",
    "\r\n",
    "\r\n",
    "def findMinDiff(root):\r\n",
    "    stack=[]\r\n",
    "    midOrder=[]\r\n",
    "    \r\n",
    "    while len(stack)>0 or root:\r\n",
    "\r\n",
    "        if root:\r\n",
    "            stack.append(root)\r\n",
    "            root=root.left\r\n",
    "        else:\r\n",
    "            root=stack[-1]\r\n",
    "            stack.pop(-1)\r\n",
    "            midOrder.append(root.val)\r\n",
    "            root=root.right\r\n",
    "    return midOrder[:]\r\n",
    "\r\n",
    "node_list=[1,None,3,None,None,2]\r\n",
    "root=buildTree(0,len(node_list),node_list)\r\n",
    "levelTraversal(root)\r\n",
    "\r\n",
    "midOrder=findMinDiff(root)\r\n",
    "\r\n",
    "min_diff=abs(midOrder[1]-midOrder[0])\r\n",
    "for i in range(2,len(midOrder)):\r\n",
    "    min_diff= min(abs(midOrder[i]-midOrder[i-1]),min_diff)\r\n",
    "\r\n",
    "min_diff\r\n",
    "\r\n",
    "\r\n",
    "\r\n",
    "        \r\n"
   ]
  },
  {
   "cell_type": "code",
   "execution_count": 15,
   "metadata": {},
   "outputs": [
    {
     "data": {
      "text/plain": "False"
     },
     "execution_count": 15,
     "metadata": {},
     "output_type": "execute_result"
    }
   ],
   "source": [
    "#  附加  非递归的二叉树中序遍历\r\n",
    "\r\n",
    "def midOrderTraversal(root):\r\n",
    "\r\n",
    "    stack=[]\r\n",
    "    flag=True\r\n",
    "    init_flag=1\r\n",
    "    while root or len(stack)>0:\r\n",
    "\r\n",
    "        #一路向左走到底，把节点依次压栈\r\n",
    "        if root:\r\n",
    "            stack.append(root)\r\n",
    "            root=root.left\r\n",
    "        #如果当前节点为空，那就把从堆栈中弹出一个节点（即，当前节点的父节点）\r\n",
    "        elif len(stack)>0:\r\n",
    "            if init_flag==1:\r\n",
    "                pre=stack[-1].val\r\n",
    "                init_flag=0\r\n",
    "            else:\r\n",
    "                if stack[-1].val<=pre:\r\n",
    "                    flag=False\r\n",
    "                    break\r\n",
    "                pre=stack[-1].val\r\n",
    "                \r\n",
    "            root=stack[-1].right\r\n",
    "            stack.pop(-1)\r\n",
    "\r\n",
    "    \r\n",
    "    return flag\r\n",
    "\r\n",
    "node_list=[5,4,6,None,None,3,7]\r\n",
    "root=buildTree(0,len(node_list),node_list)\r\n",
    "midOrderTraversal(root)\r\n",
    "\r\n"
   ]
  },
  {
   "cell_type": "code",
   "execution_count": 13,
   "metadata": {},
   "outputs": [
    {
     "data": {
      "text/plain": "[1, 2, 4, 5, 3, 6]"
     },
     "execution_count": 13,
     "metadata": {},
     "output_type": "execute_result"
    }
   ],
   "source": [
    "#附加  非递归的前序遍历\r\n",
    "\r\n",
    "def preOrderTraversal(root):\r\n",
    "    preOrder_list=[]\r\n",
    "    stack=[]\r\n",
    "\r\n",
    "    while root or len(stack)>0:\r\n",
    "        #一路向左走，同时输出节点，并将节点压栈\r\n",
    "        if root:\r\n",
    "            preOrder_list.append(root.val)\r\n",
    "            stack.append(root)\r\n",
    "            root=root.left\r\n",
    "        #如果走到底了，就弹出栈顶节点（即，当前节点的父节点），并把root迭代为父节点的右子节点\r\n",
    "        elif len(stack)>0:\r\n",
    "            root=stack[-1].right\r\n",
    "            stack.pop(-1)\r\n",
    "    return preOrder_list[:]\r\n",
    "\r\n",
    "\r\n",
    "node_list=[1,2,3,4,5,6]\r\n",
    "root=buildTree(0,len(node_list),node_list)\r\n",
    "preOrderTraversal(root)\r\n",
    "            \r\n"
   ]
  },
  {
   "cell_type": "markdown",
   "metadata": {},
   "source": [
    "从前序和中序遍历的非递归实现可以看出，区别在于何时输出节点。\r\n",
    "\r\n",
    "前序遍历是第一次遇到某节点时就输出（向左走的路径中）\r\n",
    "\r\n",
    "中序遍历是第二次遇到某节点时才输出（从堆栈中弹出时）"
   ]
  },
  {
   "cell_type": "code",
   "execution_count": 23,
   "metadata": {},
   "outputs": [
    {
     "data": {
      "text/plain": "[4, 5, 2, 6, 3, 1]"
     },
     "execution_count": 23,
     "metadata": {},
     "output_type": "execute_result"
    }
   ],
   "source": [
    "# 附加，后序遍历的非递归实现\r\n",
    "\r\n",
    "def postOrderTraversal(root):\r\n",
    "    postOrder_list=[]\r\n",
    "    stack=[]\r\n",
    "    #关键：记录栈内的每一个节点被访问过的次数！\r\n",
    "    num_stack=[]\r\n",
    "\r\n",
    "    while root or len(stack)>0:\r\n",
    "\r\n",
    "        #一直向左走，并将节点依次压栈，节点被访问的次数均置为1\r\n",
    "        if root:\r\n",
    "            stack.append(root)\r\n",
    "            num_stack.append(1)\r\n",
    "            root=root.left\r\n",
    "        #如果当前节点为空，弹出栈顶节点\r\n",
    "        #栈顶节点被访问的次数有2种情况：\r\n",
    "        # 1、除去这一次，之前被访问了1次---->则将这个节点的被访问的次数增加1，再访问当前节点的右子节点\r\n",
    "        # 2、除去这一次，之前被访问了2次---->则输出这个节点\r\n",
    "        elif len(stack)>0:\r\n",
    "            if num_stack[-1]==1:\r\n",
    "                num_stack[-1]+=1\r\n",
    "                root=stack[-1].right\r\n",
    "            elif num_stack[-1]==2:\r\n",
    "                postOrder_list.append(stack[-1].val)\r\n",
    "                stack.pop(-1)\r\n",
    "                num_stack.pop(-1)\r\n",
    "                root=None\r\n",
    "\r\n",
    "    return postOrder_list[:]\r\n",
    "\r\n",
    "\r\n",
    "node_list=[1,2,3,4,5,6]\r\n",
    "root=buildTree(0,len(node_list),node_list)\r\n",
    "postOrderTraversal(root)"
   ]
  }
 ],
 "metadata": {
  "kernelspec": {
   "display_name": "Python 3",
   "language": "python",
   "name": "python3"
  },
  "language_info": {
   "codemirror_mode": {
    "name": "ipython",
    "version": 3
   },
   "file_extension": ".py",
   "mimetype": "text/x-python",
   "name": "python",
   "nbconvert_exporter": "python",
   "pygments_lexer": "ipython3",
   "version": "3.7.3"
  },
  "orig_nbformat": 2
 },
 "nbformat": 4,
 "nbformat_minor": 2
}