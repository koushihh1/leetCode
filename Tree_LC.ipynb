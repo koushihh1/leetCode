{
 "metadata": {
  "language_info": {
   "codemirror_mode": {
    "name": "ipython",
    "version": 3
   },
   "file_extension": ".py",
   "mimetype": "text/x-python",
   "name": "python",
   "nbconvert_exporter": "python",
   "pygments_lexer": "ipython3",
   "version": "3.7.3-final"
  },
  "orig_nbformat": 2,
  "kernelspec": {
   "name": "python3",
   "display_name": "Python 3",
   "language": "python"
  }
 },
 "nbformat": 4,
 "nbformat_minor": 2,
 "cells": [
  {
   "cell_type": "code",
   "execution_count": 39,
   "metadata": {},
   "outputs": [
    {
     "output_type": "stream",
     "name": "stdout",
     "text": [
      "[[1], [2, 3]]\n"
     ]
    },
    {
     "output_type": "execute_result",
     "data": {
      "text/plain": [
       "[[1], [2, 3]]"
      ]
     },
     "metadata": {},
     "execution_count": 39
    }
   ],
   "source": [
    "class TreeNode:\n",
    "    def __init__(self, val=0, left=None, right=None):\n",
    "        self.val = val\n",
    "        self.left = left\n",
    "        self.right = right\n",
    "    def show(self):\n",
    "        print(\"value:\",self.val)\n",
    "        print(\"left:\",self.left)\n",
    "        print(\"right:\",self.right)\n",
    "\n",
    "#[5,4,8,11,None,13,4,7,2,None,None,None,None,5,1]\n",
    "def buildTree(index,len_tree):\n",
    "    if tree[index] is None:\n",
    "        return None\n",
    "\n",
    "    cur_node=TreeNode(tree[index])\n",
    "    if index*2+1<len_tree:\n",
    "        cur_node.left=buildTree(index*2+1,len_tree)\n",
    "    if index*2+2<len_tree:\n",
    "        cur_node.right=buildTree(index*2+2,len_tree)\n",
    "    return cur_node\n",
    "\n",
    "#先序遍历\n",
    "def preOrderTraversal(root):\n",
    "    if root is None:\n",
    "        return\n",
    "    else:\n",
    "        print(root.val)\n",
    "        preOrderTraversal(root.left)\n",
    "        preOrderTraversal(root.right)\n",
    "\n",
    "#层序遍历\n",
    "def levelTraversal(root):\n",
    "    if root is None:\n",
    "        return []\n",
    "    queue=[]\n",
    "    solution=[]\n",
    "    queue.append(root)\n",
    "\n",
    "    while len(queue)>0:\n",
    "\n",
    "        temp_solution=[]\n",
    "        for i in range(len(queue)):\n",
    "            temp_solution.append(queue[0].val)\n",
    "            if queue[0].left is not None:\n",
    "                queue.append(queue[0].left)\n",
    "            if queue[0].right is not None:\n",
    "                queue.append(queue[0].right)\n",
    "            queue.pop(0)\n",
    "        solution.append(temp_solution[:])\n",
    "    print(solution)\n",
    "    return solution\n",
    "\n",
    "tree= [1,2,3]\n",
    "root=buildTree(0,len(tree))\n",
    "levelTraversal(root)\n"
   ]
  },
  {
   "cell_type": "code",
   "execution_count": 17,
   "metadata": {},
   "outputs": [
    {
     "output_type": "stream",
     "name": "stdout",
     "text": [
      "False\n"
     ]
    }
   ],
   "source": [
    "# 112. 路径总和\n",
    "\n",
    "def findRoad(root,targetSum,cur_sum,flag):\n",
    "    if (root.left is None)&(root.right is None):\n",
    "        if cur_sum+root.val==targetSum:\n",
    "            return True\n",
    "        else:\n",
    "            return False\n",
    "    else:\n",
    "        if (root.left is not None)&(flag==False):\n",
    "            flag=findRoad(root.left,targetSum,cur_sum+root.val,flag)\n",
    "        if (root.right is not None)&(flag==False):\n",
    "            flag=findRoad(root.right,targetSum,cur_sum+root.val,flag)\n",
    "        return flag\n",
    "\n",
    "print(findRoad(root,0,0,False))"
   ]
  },
  {
   "cell_type": "code",
   "execution_count": 48,
   "metadata": {},
   "outputs": [
    {
     "output_type": "execute_result",
     "data": {
      "text/plain": [
       "False"
      ]
     },
     "metadata": {},
     "execution_count": 48
    }
   ],
   "source": [
    "#112.路径总和   官方解法！！！！！！\n",
    "\n",
    "targetSum=5\n",
    "\n",
    "def findRoad(root,cur_target):\n",
    "\n",
    "    #如果当前节点的父节点不是叶子节点，也返回False,牛！\n",
    "    if root is None:\n",
    "        return False\n",
    "\n",
    "    if (root.left is None)&(root.right is None):\n",
    "        return cur_target==root.val\n",
    "    else:\n",
    "        return (findRoad(root.left,cur_target-root.val)|findRoad(root.right,cur_target-root.val))\n",
    "\n",
    "findRoad(root,targetSum)\n",
    "    \n",
    "    "
   ]
  },
  {
   "cell_type": "code",
   "execution_count": null,
   "metadata": {},
   "outputs": [],
   "source": [
    "#113 路径总和Ⅱ\n",
    "\n",
    "targetSum=22\n",
    "solution=[]\n",
    "\n",
    "def checkSum(root,pre_solution):\n",
    "\n",
    "    pre_solution.append(root.val)\n",
    "    if (root.left is None)&(root.right is None):\n",
    "        print(pre_solution)\n",
    "        if sum(pre_solution)==targetSum:\n",
    "            solution.append(pre_solution[:])\n",
    "\n",
    "    else:\n",
    "        if root.left is not None:\n",
    "            checkSum(root.left, pre_solution[:])\n",
    "        if root.right is not None:\n",
    "            checkSum(root.right,pre_solution[:])\n",
    "\n",
    "checkSum(root,[])\n",
    "solution"
   ]
  },
  {
   "cell_type": "code",
   "execution_count": 3,
   "metadata": {},
   "outputs": [
    {
     "output_type": "stream",
     "name": "stdout",
     "text": [
      "[[1], [2], [3], [4], [5], [6]]\n"
     ]
    },
    {
     "output_type": "execute_result",
     "data": {
      "text/plain": [
       "[[1], [2], [3], [4], [5], [6]]"
      ]
     },
     "metadata": {},
     "execution_count": 3
    }
   ],
   "source": [
    "#114 二叉树转换为链表  方法一\n",
    "\n",
    "pre_order=[]\n",
    "\n",
    "def flatten(root):\n",
    "    \n",
    "    if root is None:\n",
    "        return \n",
    "    \n",
    "    pre_order.append(root)\n",
    "    if root.left is not None:\n",
    "        flatten(root.left)\n",
    "    if root.right is not None:\n",
    "        flatten(root.right)\n",
    "\n",
    "\n",
    "\n",
    "flatten(root)\n",
    "for i in range(len(pre_order)-1):\n",
    "    pre_order[i].left=None\n",
    "    pre_order[i].right=pre_order[i+1]\n",
    "\n",
    "pre_order[-1].left=None\n",
    "pre_order[-1].right=None\n",
    "\n",
    "levelTraversal(root)\n",
    "\n",
    "    \n",
    "    "
   ]
  },
  {
   "cell_type": "code",
   "execution_count": 4,
   "metadata": {},
   "outputs": [
    {
     "output_type": "stream",
     "name": "stdout",
     "text": [
      "[[1], [2], [3], [4], [5], [6]]\n"
     ]
    },
    {
     "output_type": "execute_result",
     "data": {
      "text/plain": [
       "[[1], [2], [3], [4], [5], [6]]"
      ]
     },
     "metadata": {},
     "execution_count": 4
    }
   ],
   "source": [
    "#114 二叉树转换为链表  方法二!!!!!!!!!!\n",
    "\n",
    "def flatten(root):\n",
    "    if root is None:\n",
    "        return\n",
    "    \n",
    "    flatten(root.left)\n",
    "    flatten(root.right)\n",
    "\n",
    "    pre_right=root.right\n",
    "    root.right=root.left\n",
    "    root.left=None\n",
    "    while root.right is not None:\n",
    "        root=root.right\n",
    "    root.right=pre_right\n",
    "\n",
    "flatten(root)\n",
    "levelTraversal(root)"
   ]
  },
  {
   "cell_type": "code",
   "execution_count": null,
   "metadata": {},
   "outputs": [],
   "source": [
    "#513. 找树左下角的值\n",
    "\n",
    "#层序遍历，修改为 自上而下 自右向左！！，最后一个元素即为最底层最左边的元素\n",
    "\n",
    "def findBottomLeftValue(self, root: TreeNode) -> int:\n",
    "\n",
    "    queue=[root]\n",
    "\n",
    "    while len(queue)>0:\n",
    "        if queue[0].right is not None:\n",
    "            queue.append(queue[0].right)\n",
    "        if queue[0].left is not None:\n",
    "            queue.append(queue[0].left)\n",
    "        final_result=queue[0].val\n",
    "        queue.pop(0)\n",
    "    return final_result"
   ]
  }
 ]
}