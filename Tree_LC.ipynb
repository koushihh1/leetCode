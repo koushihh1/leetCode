{
 "cells": [
  {
   "cell_type": "code",
   "execution_count": 2,
   "metadata": {},
   "outputs": [
    {
     "name": "stdout",
     "output_type": "stream",
     "text": [
      "[[3], [9, 20], [15, 7]]\n"
     ]
    },
    {
     "data": {
      "text/plain": "[[3], [9, 20], [15, 7]]"
     },
     "execution_count": 2,
     "metadata": {},
     "output_type": "execute_result"
    }
   ],
   "source": [
    "class TreeNode:\r\n",
    "    def __init__(self, val=0, left=None, right=None):\r\n",
    "        self.val = val\r\n",
    "        self.left = left\r\n",
    "        self.right = right\r\n",
    "    def show(self):\r\n",
    "        print(\"value:\",self.val)\r\n",
    "        print(\"left:\",self.left)\r\n",
    "        print(\"right:\",self.right)\r\n",
    "\r\n",
    "#[5,4,8,11,None,13,4,7,2,None,None,None,None,5,1]\r\n",
    "def buildTree(index,len_tree,tree):\r\n",
    "    if tree[index] is None:\r\n",
    "        return None\r\n",
    "\r\n",
    "    cur_node=TreeNode(tree[index])\r\n",
    "    if index*2+1<len_tree:\r\n",
    "        cur_node.left=buildTree(index*2+1,len_tree,tree[:])\r\n",
    "    if index*2+2<len_tree:\r\n",
    "        cur_node.right=buildTree(index*2+2,len_tree,tree[:])\r\n",
    "    return cur_node\r\n",
    "\r\n",
    "#先序遍历\r\n",
    "def preOrderTraversal(root):\r\n",
    "    if root is None:\r\n",
    "        return\r\n",
    "    else:\r\n",
    "        print(root.val)\r\n",
    "        preOrderTraversal(root.left)\r\n",
    "        preOrderTraversal(root.right)\r\n",
    "\r\n",
    "#层序遍历\r\n",
    "def levelTraversal(root):\r\n",
    "    if root is None:\r\n",
    "        return []\r\n",
    "    queue=[]\r\n",
    "    solution=[]\r\n",
    "    queue.append(root)\r\n",
    "\r\n",
    "    while len(queue)>0:\r\n",
    "\r\n",
    "        temp_solution=[]\r\n",
    "        for i in range(len(queue)):\r\n",
    "            temp_solution.append(queue[0].val)\r\n",
    "            if queue[0].left is not None:\r\n",
    "                queue.append(queue[0].left)\r\n",
    "            if queue[0].right is not None:\r\n",
    "                queue.append(queue[0].right)\r\n",
    "            queue.pop(0)\r\n",
    "        solution.append(temp_solution[:])\r\n",
    "    print(solution)\r\n",
    "    return solution\r\n",
    "\r\n",
    "tree= [3,9,20,None,None,15,7]\r\n",
    "root=buildTree(0,len(tree),tree[:])\r\n",
    "levelTraversal(root)\r\n"
   ]
  },
  {
   "cell_type": "code",
   "execution_count": 21,
   "metadata": {},
   "outputs": [
    {
     "data": {
      "text/plain": "False"
     },
     "execution_count": 21,
     "metadata": {},
     "output_type": "execute_result"
    }
   ],
   "source": [
    "# 96 验证二叉搜索树\r\n",
    "\r\n",
    "def checkBST(root):\r\n",
    "\r\n",
    "    if not root.left and not root.right:\r\n",
    "        return True\r\n",
    "    elif not root.left:\r\n",
    "        if root.val<root.right.val:\r\n",
    "            return checkBST(root.right)\r\n",
    "        else:\r\n",
    "            return False\r\n",
    "    elif not root.right:\r\n",
    "        if root.val>root.left.val:\r\n",
    "            return checkBST(root.left)\r\n",
    "        else:\r\n",
    "            return False\r\n",
    "    else:\r\n",
    "        if (root.val>root.left.val) and (root.val<root.right.val):\r\n",
    "            return checkBST(root.left) and checkBST(root.right)\r\n",
    "        else:\r\n",
    "            return False\r\n",
    "\r\n",
    "checkBST(root)\r\n",
    "\r\n"
   ]
  },
  {
   "cell_type": "code",
   "execution_count": 55,
   "metadata": {},
   "outputs": [
    {
     "name": "stdout",
     "output_type": "stream",
     "text": [
      "[[1], [2, 2], [3, 4, 4, 3]]\n"
     ]
    },
    {
     "data": {
      "text/plain": "True"
     },
     "execution_count": 55,
     "metadata": {},
     "output_type": "execute_result"
    }
   ],
   "source": [
    "\r\n",
    "#101  对称二叉树\r\n",
    "\r\n",
    "def checkDuicheng(left,right):\r\n",
    "\r\n",
    "    if not left and not right:\r\n",
    "        return True\r\n",
    "    if not left or not right:\r\n",
    "        return False\r\n",
    "    if left.val != right.val:\r\n",
    "        return False\r\n",
    "    else:\r\n",
    "        return checkDuicheng(left.left,right.right) and checkDuicheng(left.right,right.left)\r\n",
    "\r\n",
    "node_list=[1,2,2,3,4,4,3]\r\n",
    "root=buildTree(0,len(node_list),node_list)\r\n",
    "levelTraversal(root)\r\n",
    "checkDuicheng(root.left,root.right)\r\n",
    "    "
   ]
  },
  {
   "cell_type": "code",
   "execution_count": 8,
   "metadata": {},
   "outputs": [
    {
     "name": "stdout",
     "output_type": "stream",
     "text": [
      "[[0], [-3, 9], [-10, 5]]\n"
     ]
    },
    {
     "data": {
      "text/plain": "[[0], [-3, 9], [-10, 5]]"
     },
     "execution_count": 8,
     "metadata": {},
     "output_type": "execute_result"
    }
   ],
   "source": [
    "\r\n",
    "#108  将有序数组转换为平衡BST\r\n",
    "\r\n",
    "#关键点：每次都将\r\n",
    "def buildAVL(node_list):\r\n",
    "    if len(node_list)==0:\r\n",
    "        return \r\n",
    "    if len(node_list)==1:\r\n",
    "        return TreeNode(node_list[0])\r\n",
    "\r\n",
    "    mid_index=int(len(node_list)/2)\r\n",
    "    root=TreeNode(node_list[mid_index])\r\n",
    "    root.left=buildAVL(node_list[:mid_index])\r\n",
    "    root.right=buildAVL(node_list[mid_index+1:])\r\n",
    "    return root\r\n",
    "\r\n",
    "root=buildAVL([-10,-3,0,5,9])\r\n",
    "levelTraversal(root)"
   ]
  },
  {
   "cell_type": "code",
   "execution_count": 41,
   "metadata": {},
   "outputs": [
    {
     "data": {
      "text/plain": "False"
     },
     "execution_count": 41,
     "metadata": {},
     "output_type": "execute_result"
    }
   ],
   "source": [
    "#110 判断一棵二叉树是否为平衡二叉树\r\n",
    "\r\n",
    "flag=True\r\n",
    "\r\n",
    "def calHeight(root):\r\n",
    "    global flag\r\n",
    "    if not root:\r\n",
    "        return 0\r\n",
    "    else:\r\n",
    "        height_right=calHeight(root.right)+1\r\n",
    "        height_left=calHeight(root.left)+1\r\n",
    "\r\n",
    "        if abs(height_right-height_left)>1:\r\n",
    "            flag=False\r\n",
    "\r\n",
    "        return max(height_left,height_right)\r\n",
    "\r\n",
    "node_list=[1,2,2,3,3,None,None,4,4]\r\n",
    "root=buildTree(0,len(node_list),node_list)\r\n",
    "calHeight(root)\r\n",
    "flag\r\n"
   ]
  },
  {
   "cell_type": "code",
   "execution_count": 42,
   "metadata": {},
   "outputs": [
    {
     "data": {
      "text/plain": "-1"
     },
     "execution_count": 42,
     "metadata": {},
     "output_type": "execute_result"
    }
   ],
   "source": [
    "#110 优化   自底向上 考察左右子树的高度    后序遍历\r\n",
    "\r\n",
    "def calHeight(root):\r\n",
    "    if not root:\r\n",
    "        return 0\r\n",
    "    else:\r\n",
    "        left=calHeight(root.left)\r\n",
    "        if left==-1:\r\n",
    "            return -1\r\n",
    "        right=calHeight(root.right)\r\n",
    "        if right==-1:\r\n",
    "            return -1\r\n",
    "\r\n",
    "        return max(right,left)+1 if abs(right-left)<=1 else -1\r\n",
    "\r\n",
    "calHeight(root)"
   ]
  },
  {
   "cell_type": "code",
   "execution_count": 17,
   "metadata": {},
   "outputs": [],
   "source": [
    "# 112. 路径总和\n",
    "\n",
    "def findRoad(root,targetSum,cur_sum,flag):\n",
    "    if (root.left is None)&(root.right is None):\n",
    "        if cur_sum+root.val==targetSum:\n",
    "            return True\n",
    "        else:\n",
    "            return False\n",
    "    else:\n",
    "        if (root.left is not None)&(flag==False):\n",
    "            flag=findRoad(root.left,targetSum,cur_sum+root.val,flag)\n",
    "        if (root.right is not None)&(flag==False):\n",
    "            flag=findRoad(root.right,targetSum,cur_sum+root.val,flag)\n",
    "        return flag\n",
    "\n",
    "print(findRoad(root,0,0,False))"
   ]
  },
  {
   "cell_type": "code",
   "execution_count": 48,
   "metadata": {},
   "outputs": [],
   "source": [
    "#112.路径总和   官方解法！！！！！！\n",
    "\n",
    "targetSum=5\n",
    "\n",
    "def findRoad(root,cur_target):\n",
    "\n",
    "    #如果当前节点的父节点不是叶子节点，也返回False,牛！\n",
    "    if root is None:\n",
    "        return False\n",
    "\n",
    "    if (root.left is None)&(root.right is None):\n",
    "        return cur_target==root.val\n",
    "    else:\n",
    "        return (findRoad(root.left,cur_target-root.val)|findRoad(root.right,cur_target-root.val))\n",
    "\n",
    "findRoad(root,targetSum)\n",
    "    \n",
    "    "
   ]
  },
  {
   "cell_type": "code",
   "execution_count": null,
   "metadata": {},
   "outputs": [],
   "source": [
    "#113 路径总和Ⅱ\n",
    "\n",
    "targetSum=22\n",
    "solution=[]\n",
    "\n",
    "def checkSum(root,pre_solution):\n",
    "\n",
    "    pre_solution.append(root.val)\n",
    "    if (root.left is None)&(root.right is None):\n",
    "        print(pre_solution)\n",
    "        if sum(pre_solution)==targetSum:\n",
    "            solution.append(pre_solution[:])\n",
    "\n",
    "    else:\n",
    "        if root.left is not None:\n",
    "            checkSum(root.left, pre_solution[:])\n",
    "        if root.right is not None:\n",
    "            checkSum(root.right,pre_solution[:])\n",
    "\n",
    "checkSum(root,[])\n",
    "solution"
   ]
  },
  {
   "cell_type": "code",
   "execution_count": 3,
   "metadata": {},
   "outputs": [],
   "source": [
    "#114 二叉树转换为链表  方法一\n",
    "\n",
    "pre_order=[]\n",
    "\n",
    "def flatten(root):\n",
    "    \n",
    "    if root is None:\n",
    "        return \n",
    "    \n",
    "    pre_order.append(root)\n",
    "    if root.left is not None:\n",
    "        flatten(root.left)\n",
    "    if root.right is not None:\n",
    "        flatten(root.right)\n",
    "\n",
    "\n",
    "\n",
    "flatten(root)\n",
    "for i in range(len(pre_order)-1):\n",
    "    pre_order[i].left=None\n",
    "    pre_order[i].right=pre_order[i+1]\n",
    "\n",
    "pre_order[-1].left=None\n",
    "pre_order[-1].right=None\n",
    "\n",
    "levelTraversal(root)\n",
    "\n",
    "    \n",
    "    "
   ]
  },
  {
   "cell_type": "code",
   "execution_count": 4,
   "metadata": {},
   "outputs": [],
   "source": [
    "#114 二叉树转换为链表  方法二!!!!!!!!!!\n",
    "\n",
    "def flatten(root):\n",
    "    if root is None:\n",
    "        return\n",
    "    \n",
    "    flatten(root.left)\n",
    "    flatten(root.right)\n",
    "\n",
    "    pre_right=root.right\n",
    "    root.right=root.left\n",
    "    root.left=None\n",
    "    while root.right is not None:\n",
    "        root=root.right\n",
    "    root.right=pre_right\n",
    "\n",
    "flatten(root)\n",
    "levelTraversal(root)"
   ]
  },
  {
   "cell_type": "code",
   "execution_count": null,
   "metadata": {},
   "outputs": [],
   "source": [
    "#513. 找树左下角的值\n",
    "\n",
    "#层序遍历，修改为 自上而下 自右向左！！，最后一个元素即为最底层最左边的元素\n",
    "\n",
    "def findBottomLeftValue(self, root: TreeNode) -> int:\n",
    "\n",
    "    queue=[root]\n",
    "\n",
    "    while len(queue)>0:\n",
    "        if queue[0].right is not None:\n",
    "            queue.append(queue[0].right)\n",
    "        if queue[0].left is not None:\n",
    "            queue.append(queue[0].left)\n",
    "        final_result=queue[0].val\n",
    "        queue.pop(0)\n",
    "    return final_result"
   ]
  },
  {
   "cell_type": "code",
   "execution_count": 17,
   "metadata": {},
   "outputs": [
    {
     "data": {
      "text/plain": "3"
     },
     "execution_count": 17,
     "metadata": {},
     "output_type": "execute_result"
    }
   ],
   "source": [
    "#559 N叉树的最大深度\r\n",
    "\r\n",
    "def getHeight(root):\r\n",
    "    if not root:\r\n",
    "        return 0\r\n",
    "    else:\r\n",
    "        cur_max_height=0\r\n",
    "        for i in root.children:\r\n",
    "            cur_max_height=max(cur_max_height,getHeight(i))\r\n",
    "        return cur_max_height+1\r\n",
    "\r\n",
    "getHeight(node_1)"
   ]
  },
  {
   "cell_type": "code",
   "execution_count": 6,
   "metadata": {},
   "outputs": [],
   "source": [
    "#589 N叉树的先序遍历\r\n",
    "\r\n",
    "\r\n",
    "class Node_n:\r\n",
    "\r\n",
    "    def __init__(self, val=0, children=[]):\r\n",
    "        self.val = val\r\n",
    "        self.children=children\r\n",
    "\r\n",
    "node_5=Node_n(5)\r\n",
    "node_6=Node_n(6)\r\n",
    "node_3=Node_n(3,[node_5,node_6])\r\n",
    "node_2=Node_n(2)\r\n",
    "node_4=Node_n(4)\r\n",
    "node_1=Node_n(1,[node_3,node_2,node_4])\r\n",
    "\r\n",
    "solution=[]\r\n",
    "\r\n",
    "def preOrderTraversal_n(root):\r\n",
    "    if not root:\r\n",
    "        return\r\n",
    "    else:\r\n",
    "        solution.append(root.val)\r\n",
    "        for i in root.children:\r\n",
    "            preOrderTraversal_n(i)\r\n",
    "preOrderTraversal_n(node_1)\r\n",
    "solution\r\n",
    "\r\n"
   ]
  },
  {
   "cell_type": "code",
   "execution_count": 12,
   "metadata": {},
   "outputs": [
    {
     "data": {
      "text/plain": "[1, 3, 5, 6, 2, 4]"
     },
     "execution_count": 12,
     "metadata": {},
     "output_type": "execute_result"
    }
   ],
   "source": [
    "#589 N叉树的前序遍历   用迭代法！！！  堆栈实现\r\n",
    "\r\n",
    "def preOrderTraversal_n(root):\r\n",
    "    solution=[]\r\n",
    "    stack=[root]\r\n",
    "\r\n",
    "    while len(stack)>0:\r\n",
    "        top_node=stack[-1]\r\n",
    "        stack.pop(-1)\r\n",
    "        stack.extend((top_node.children)[::-1])\r\n",
    "        solution.append(top_node.val)\r\n",
    "    return solution\r\n",
    "\r\n",
    "preOrderTraversal_n(node_1)"
   ]
  },
  {
   "cell_type": "code",
   "execution_count": 15,
   "metadata": {},
   "outputs": [
    {
     "data": {
      "text/plain": "[5, 6, 3, 2, 4, 1]"
     },
     "execution_count": 15,
     "metadata": {},
     "output_type": "execute_result"
    }
   ],
   "source": [
    "# N叉树的后续遍历   堆栈实现！！！！！！！\r\n",
    "def postOrderTraversal_n(root):\r\n",
    "    stack=[root]\r\n",
    "    solution=[]\r\n",
    "\r\n",
    "    while len(stack)>0:\r\n",
    "        top_node=stack[-1]\r\n",
    "        solution.append(top_node.val)\r\n",
    "        stack.pop(-1)\r\n",
    "        stack.extend(top_node.children)\r\n",
    "    solution.reverse()\r\n",
    "    return solution\r\n",
    "\r\n",
    "postOrderTraversal_n(node_1)"
   ]
  },
  {
   "cell_type": "code",
   "execution_count": 7,
   "metadata": {},
   "outputs": [],
   "source": [
    "\r\n",
    "a=[1,2,3]\r\n",
    "a[::-1]"
   ]
  }
 ],
 "metadata": {
  "kernelspec": {
   "display_name": "Python 3",
   "language": "python",
   "name": "python3"
  },
  "language_info": {
   "codemirror_mode": {
    "name": "ipython",
    "version": 3
   },
   "file_extension": ".py",
   "mimetype": "text/x-python",
   "name": "python",
   "nbconvert_exporter": "python",
   "pygments_lexer": "ipython3",
   "version": "3.7.3-final"
  },
  "orig_nbformat": 2
 },
 "nbformat": 4,
 "nbformat_minor": 2
}