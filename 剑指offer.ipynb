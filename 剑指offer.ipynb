{
 "cells": [
  {
   "cell_type": "code",
   "execution_count": null,
   "metadata": {},
   "outputs": [],
   "source": [
    "#剑指 Offer 03. 数组中重复的数字\r\n",
    "\r\n",
    "#一开始用的是list，改用set以后快很多！！\r\n",
    "\r\n",
    "#python中list和set一些操作的时间复杂度比较\r\n",
    "#https://wiki.python.org/moin/TimeComplexity\r\n",
    "\r\n",
    "\r\n",
    "x=set()\r\n",
    "\r\n",
    "for i in nums:\r\n",
    "    if i not in x:\r\n",
    "        x.add(i)\r\n",
    "    else:\r\n",
    "        return i"
   ]
  },
  {
   "cell_type": "code",
   "execution_count": 2,
   "metadata": {},
   "outputs": [
    {
     "data": {
      "text/plain": "2"
     },
     "execution_count": 2,
     "metadata": {},
     "output_type": "execute_result"
    }
   ],
   "source": [
    "#剑指 Offer 03. 数组中重复的数字  不开额外空间的解法\r\n",
    "\r\n",
    "def checkDuplicatedNum(nums):\r\n",
    "    for i in range(len(nums)):\r\n",
    "\r\n",
    "        while nums[i]!=i:\r\n",
    "            if nums[i]==nums[nums[i]]:\r\n",
    "                return nums[i]\r\n",
    "            tmp=nums[nums[i]]\r\n",
    "            nums[nums[i]]=nums[i]\r\n",
    "            nums[i]=tmp\r\n",
    "\r\n",
    "checkDuplicatedNum([2, 3, 1, 0, 2, 5, 3])"
   ]
  },
  {
   "cell_type": "code",
   "execution_count": 12,
   "metadata": {},
   "outputs": [
    {
     "data": {
      "text/plain": "[2, 3, 1]"
     },
     "execution_count": 12,
     "metadata": {},
     "output_type": "execute_result"
    }
   ],
   "source": [
    "#剑指 Offer 06. 从尾到头打印链表   这里直接原地修改了每个节点的next指针\r\n",
    "\r\n",
    "#还可以用递归、栈的方法\r\n",
    "\r\n",
    "class ListNode:\r\n",
    "    def __init__(self, x):\r\n",
    "        self.val = x\r\n",
    "        self.next = None\r\n",
    "\r\n",
    "a=ListNode(1)\r\n",
    "b=ListNode(2)\r\n",
    "c=ListNode(3)\r\n",
    "a.next=c\r\n",
    "c.next=b\r\n",
    "\r\n",
    "head=a\r\n",
    "\r\n",
    "pre=None\r\n",
    "while head:\r\n",
    "    next_node=head.next\r\n",
    "    head.next=pre\r\n",
    "    pre=head\r\n",
    "    head=next_node\r\n",
    "\r\n",
    "result=[]\r\n",
    "while pre:\r\n",
    "    result.append(pre.val)\r\n",
    "    pre=pre.next\r\n",
    "result"
   ]
  },
  {
   "cell_type": "code",
   "execution_count": null,
   "metadata": {},
   "outputs": [],
   "source": [
    "#剑指 Offer 09. 用两个栈实现队列\r\n",
    "\r\n",
    "#分别用两个栈来表示入栈元素和出栈元素\r\n",
    "\r\n",
    "class CQueue:\r\n",
    "    \r\n",
    "    def __init__(self):\r\n",
    "        self.stack_in=[]\r\n",
    "        self.stack_out=[]\r\n",
    "\r\n",
    "    def appendTail(self, value: int):\r\n",
    "        self.stack_in.append(value)\r\n",
    "\r\n",
    "\r\n",
    "    def deleteHead(self):\r\n",
    "        #如果出栈为空，去看入栈的情况\r\n",
    "        if not self.stack_out: \r\n",
    "            #如果入栈为空，说明整个队列没有元素\r\n",
    "            if not self.stack_in:\r\n",
    "                return -1\r\n",
    "            #如果入栈不空，则要把入栈中的元素倒入出栈中\r\n",
    "            else:\r\n",
    "                size_stack_in=len(self.stack_in)\r\n",
    "                for i in range(size_stack_in):\r\n",
    "                    self.stack_out.append(self.stack_in.pop(-1))\r\n",
    "\r\n",
    "        return self.stack_out.pop(-1)\r\n",
    "\r\n",
    "            return result"
   ]
  },
  {
   "cell_type": "code",
   "execution_count": 3,
   "metadata": {},
   "outputs": [
    {
     "data": {
      "text/plain": "5"
     },
     "execution_count": 3,
     "metadata": {},
     "output_type": "execute_result"
    }
   ],
   "source": [
    "#剑指 Offer 10- I. 斐波那契数列\r\n",
    "n = 5\r\n",
    "f=[0 for i in range(n+1)]\r\n",
    "f[0]=0\r\n",
    "f[1]=1\r\n",
    "\r\n",
    "for i in range(2,n+1):\r\n",
    "    f[i]=f[i-1]+f[i-2]\r\n",
    "\r\n",
    "f[n]\r\n"
   ]
  },
  {
   "cell_type": "code",
   "execution_count": 4,
   "metadata": {},
   "outputs": [
    {
     "data": {
      "text/plain": "21"
     },
     "execution_count": 4,
     "metadata": {},
     "output_type": "execute_result"
    }
   ],
   "source": [
    "#剑指 Offer 10- II. 青蛙跳台阶问题\r\n",
    "\r\n",
    "n = 7\r\n",
    "\r\n",
    "pre_2=1\r\n",
    "pre_1=2\r\n",
    "\r\n",
    "for i in range(3,n+1):\r\n",
    "    pre_1,pre_2=pre_1+pre_2,pre_1\r\n",
    "\r\n",
    "pre_1"
   ]
  },
  {
   "cell_type": "code",
   "execution_count": 2,
   "metadata": {},
   "outputs": [],
   "source": [
    "#二分查找\r\n",
    "\r\n",
    "nums=[-1,0,3,5,8,12]\r\n",
    "target=9\r\n",
    "\r\n",
    "left=0\r\n",
    "right=len(nums)-1\r\n",
    "while right>=left:\r\n",
    "    mid_index=int((right+left)/2)\r\n",
    "    mid_num=nums[mid_index]\r\n",
    "    if mid_num>target:\r\n",
    "        right=mid_index-1\r\n",
    "    elif mid_num<target:\r\n",
    "        left=mid_index+1\r\n",
    "    else:\r\n",
    "        print(mid_index)\r\n",
    "        break\r\n"
   ]
  }
 ],
 "metadata": {
  "kernelspec": {
   "display_name": "Python 3",
   "language": "python",
   "name": "python3"
  },
  "language_info": {
   "codemirror_mode": {
    "name": "ipython",
    "version": 3
   },
   "file_extension": ".py",
   "mimetype": "text/x-python",
   "name": "python",
   "nbconvert_exporter": "python",
   "pygments_lexer": "ipython3",
   "version": "3.7.3"
  },
  "orig_nbformat": 2
 },
 "nbformat": 4,
 "nbformat_minor": 2
}