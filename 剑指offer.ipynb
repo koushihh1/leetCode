{
 "cells": [
  {
   "cell_type": "code",
   "execution_count": null,
   "metadata": {},
   "outputs": [],
   "source": [
    "#剑指 Offer 03. 数组中重复的数字\r\n",
    "\r\n",
    "#一开始用的是list，改用set以后快很多！！\r\n",
    "\r\n",
    "#python中list和set一些操作的时间复杂度比较\r\n",
    "#https://wiki.python.org/moin/TimeComplexity\r\n",
    "\r\n",
    "\r\n",
    "x=set()\r\n",
    "\r\n",
    "for i in nums:\r\n",
    "    if i not in x:\r\n",
    "        x.add(i)\r\n",
    "    else:\r\n",
    "        return i"
   ]
  },
  {
   "cell_type": "code",
   "execution_count": 2,
   "metadata": {},
   "outputs": [
    {
     "data": {
      "text/plain": "2"
     },
     "execution_count": 2,
     "metadata": {},
     "output_type": "execute_result"
    }
   ],
   "source": [
    "#剑指 Offer 03. 数组中重复的数字  不开额外空间的解法\r\n",
    "\r\n",
    "def checkDuplicatedNum(nums):\r\n",
    "    for i in range(len(nums)):\r\n",
    "\r\n",
    "        while nums[i]!=i:\r\n",
    "            if nums[i]==nums[nums[i]]:\r\n",
    "                return nums[i]\r\n",
    "            tmp=nums[nums[i]]\r\n",
    "            nums[nums[i]]=nums[i]\r\n",
    "            nums[i]=tmp\r\n",
    "\r\n",
    "checkDuplicatedNum([2, 3, 1, 0, 2, 5, 3])"
   ]
  },
  {
   "cell_type": "code",
   "execution_count": 12,
   "metadata": {},
   "outputs": [
    {
     "data": {
      "text/plain": "[2, 3, 1]"
     },
     "execution_count": 12,
     "metadata": {},
     "output_type": "execute_result"
    }
   ],
   "source": [
    "#剑指 Offer 06. 从尾到头打印链表   这里直接原地修改了每个节点的next指针\r\n",
    "\r\n",
    "#还可以用递归、栈的方法\r\n",
    "\r\n",
    "class ListNode:\r\n",
    "    def __init__(self, x):\r\n",
    "        self.val = x\r\n",
    "        self.next = None\r\n",
    "\r\n",
    "a=ListNode(1)\r\n",
    "b=ListNode(2)\r\n",
    "c=ListNode(3)\r\n",
    "a.next=c\r\n",
    "c.next=b\r\n",
    "\r\n",
    "head=a\r\n",
    "\r\n",
    "pre=None\r\n",
    "while head:\r\n",
    "    next_node=head.next\r\n",
    "    head.next=pre\r\n",
    "    pre=head\r\n",
    "    head=next_node\r\n",
    "\r\n",
    "result=[]\r\n",
    "while pre:\r\n",
    "    result.append(pre.val)\r\n",
    "    pre=pre.next\r\n",
    "result"
   ]
  },
  {
   "cell_type": "code",
   "execution_count": null,
   "metadata": {},
   "outputs": [],
   "source": [
    "#剑指 Offer 09. 用两个栈实现队列\r\n",
    "\r\n",
    "#分别用两个栈来表示入栈元素和出栈元素\r\n",
    "\r\n",
    "class CQueue:\r\n",
    "    \r\n",
    "    def __init__(self):\r\n",
    "        self.stack_in=[]\r\n",
    "        self.stack_out=[]\r\n",
    "\r\n",
    "    def appendTail(self, value: int):\r\n",
    "        self.stack_in.append(value)\r\n",
    "\r\n",
    "\r\n",
    "    def deleteHead(self):\r\n",
    "        #如果出栈为空，去看入栈的情况\r\n",
    "        if not self.stack_out: \r\n",
    "            #如果入栈为空，说明整个队列没有元素\r\n",
    "            if not self.stack_in:\r\n",
    "                return -1\r\n",
    "            #如果入栈不空，则要把入栈中的元素倒入出栈中\r\n",
    "            else:\r\n",
    "                size_stack_in=len(self.stack_in)\r\n",
    "                for i in range(size_stack_in):\r\n",
    "                    self.stack_out.append(self.stack_in.pop(-1))\r\n",
    "\r\n",
    "        return self.stack_out.pop(-1)\r\n",
    "\r\n",
    "            return result"
   ]
  },
  {
   "cell_type": "code",
   "execution_count": 3,
   "metadata": {},
   "outputs": [
    {
     "data": {
      "text/plain": "5"
     },
     "execution_count": 3,
     "metadata": {},
     "output_type": "execute_result"
    }
   ],
   "source": [
    "#剑指 Offer 10- I. 斐波那契数列\r\n",
    "n = 5\r\n",
    "f=[0 for i in range(n+1)]\r\n",
    "f[0]=0\r\n",
    "f[1]=1\r\n",
    "\r\n",
    "for i in range(2,n+1):\r\n",
    "    f[i]=f[i-1]+f[i-2]\r\n",
    "\r\n",
    "f[n]\r\n"
   ]
  },
  {
   "cell_type": "code",
   "execution_count": 4,
   "metadata": {},
   "outputs": [
    {
     "data": {
      "text/plain": "21"
     },
     "execution_count": 4,
     "metadata": {},
     "output_type": "execute_result"
    }
   ],
   "source": [
    "#剑指 Offer 10- II. 青蛙跳台阶问题\r\n",
    "\r\n",
    "n = 7\r\n",
    "\r\n",
    "pre_2=1\r\n",
    "pre_1=2\r\n",
    "\r\n",
    "for i in range(3,n+1):\r\n",
    "    pre_1,pre_2=pre_1+pre_2,pre_1\r\n",
    "\r\n",
    "pre_1"
   ]
  },
  {
   "cell_type": "code",
   "execution_count": 2,
   "metadata": {},
   "outputs": [],
   "source": [
    "#二分查找\r\n",
    "\r\n",
    "nums=[-1,0,3,5,8,12]\r\n",
    "target=9\r\n",
    "\r\n",
    "left=0\r\n",
    "right=len(nums)-1\r\n",
    "while right>=left:\r\n",
    "    mid_index=int((right+left)/2)\r\n",
    "    mid_num=nums[mid_index]\r\n",
    "    if mid_num>target:\r\n",
    "        right=mid_index-1\r\n",
    "    elif mid_num<target:\r\n",
    "        left=mid_index+1\r\n",
    "    else:\r\n",
    "        print(mid_index)\r\n",
    "        break\r\n"
   ]
  },
  {
   "cell_type": "code",
   "execution_count": 12,
   "metadata": {},
   "outputs": [
    {
     "name": "stdout",
     "output_type": "stream",
     "text": [
      "False\n"
     ]
    }
   ],
   "source": [
    "#剑指 Offer 12. 矩阵中的路径\r\n",
    "\r\n",
    "board=[[\"a\",\"a\",\"a\"],\r\n",
    "        [\"a\",\"b\",\"b\"],\r\n",
    "        [\"a\",\"b\",\"b\"],\r\n",
    "        [\"b\",\"b\",\"b\"],\r\n",
    "        [\"b\",\"b\",\"b\"],\r\n",
    "        [\"a\",\"a\",\"a\"],\r\n",
    "        [\"b\",\"b\",\"b\"],\r\n",
    "        [\"a\",\"b\",\"b\"],\r\n",
    "        [\"a\",\"a\",\"b\"],\r\n",
    "        [\"a\",\"b\",\"a\"]]\r\n",
    "word=\"aabaaaabbb\"\r\n",
    "\r\n",
    "\r\n",
    "def DFS(i,j,pre_str,pre_i,pre_j):\r\n",
    "    cur_str=pre_str+board[i][j]\r\n",
    "    if len(cur_str)==len(word):\r\n",
    "        return cur_str==word\r\n",
    "\r\n",
    "    #当前字符 == word中对应位置的字符\r\n",
    "    if word[len(cur_str)-1]==board[i][j]:\r\n",
    "        cur_char=board[i][j]\r\n",
    "        board[i][j]=\"-\"\r\n",
    "\r\n",
    "        if i+1<=row_num-1 and i+1!=pre_i and board[i+1][j]!=\"-\":\r\n",
    "            result=DFS(i+1,j,cur_str,i,j)\r\n",
    "            if result==True:\r\n",
    "                return True\r\n",
    "\r\n",
    "        if i-1>=0 and i-1!=pre_i and board[i-1][j]!=\"-\":\r\n",
    "            result=DFS(i-1,j,cur_str,i,j)\r\n",
    "            if result==True:\r\n",
    "                return True\r\n",
    "\r\n",
    "        if j+1<=col_num-1 and j+1!=pre_j and board[i][j+1]!=\"-\":\r\n",
    "            result=DFS(i,j+1,cur_str,i,j)\r\n",
    "            if result==True:\r\n",
    "                return True\r\n",
    "\r\n",
    "        if j-1>=0 and j-1!=pre_j and board[i][j-1]!=\"-\":\r\n",
    "            result=DFS(i,j-1,cur_str,i,j)\r\n",
    "            if result==True:\r\n",
    "                return True\r\n",
    "        board[i][j]=cur_char\r\n",
    "    return False\r\n",
    "\r\n",
    "\r\n",
    "\r\n",
    "row_num=len(board)\r\n",
    "col_num=len(board[0])\r\n",
    "\r\n",
    "for i in range(row_num):\r\n",
    "    for j in range(col_num):\r\n",
    "        result=DFS(i,j,\"\",-1,-1)\r\n",
    "        if result==True:\r\n",
    "            break\r\n",
    "    if result==True:\r\n",
    "        break\r\n",
    "\r\n",
    "print(result)\r\n",
    "    \r\n",
    "\r\n",
    "\r\n"
   ]
  },
  {
   "cell_type": "code",
   "execution_count": 15,
   "metadata": {},
   "outputs": [
    {
     "data": {
      "text/plain": "False"
     },
     "execution_count": 15,
     "metadata": {},
     "output_type": "execute_result"
    }
   ],
   "source": [
    "#剑指 Offer 12. 矩阵中的路径   代码优化\r\n",
    "board=[[\"a\",\"a\",\"a\"],\r\n",
    "        [\"a\",\"b\",\"b\"],\r\n",
    "        [\"a\",\"b\",\"b\"],\r\n",
    "        [\"b\",\"b\",\"b\"],\r\n",
    "        [\"b\",\"b\",\"b\"],\r\n",
    "        [\"a\",\"a\",\"a\"],\r\n",
    "        [\"b\",\"b\",\"b\"],\r\n",
    "        [\"a\",\"b\",\"b\"],\r\n",
    "        [\"a\",\"a\",\"b\"],\r\n",
    "        [\"a\",\"b\",\"a\"]]\r\n",
    "word=\"aabaaaabbb\"\r\n",
    "\r\n",
    "def DFS(i,j,pre_str):\r\n",
    "    #如果跨过边界了，或者遇到了已经走过的点，返回False\r\n",
    "    if i==row_num or i==-1 or j==col_num or j==-1 or board[i][j]==\"-\":\r\n",
    "        return False\r\n",
    "\r\n",
    "    cur_str=pre_str+board[i][j]\r\n",
    "    cur_char=board[i][j]\r\n",
    "    #关键，把当前点标记为已经走过\r\n",
    "    board[i][j]=\"-\"\r\n",
    "\r\n",
    "    #如果当前加入的字符==word中对应位置的字符\r\n",
    "    if board[i][j]==word[len(cur_str)-1]:\r\n",
    "        #如果长度达到了word，说明找到了路径\r\n",
    "        if len(cur_str)==len(word):\r\n",
    "            result=True\r\n",
    "        #如果长度没达到word，继续往四个方向上找\r\n",
    "        else:\r\n",
    "            result=DFS(i-1,j,cur_str) or DFS(i+1,j,cur_str) or DFS(i,j-1,cur_str) or DFS(i,j+1,cur_str)\r\n",
    "    #如果当前加入的字符!=word中对应位置的字符，说明此路不通，返回false\r\n",
    "    else:\r\n",
    "        result=False\r\n",
    "    \r\n",
    "    #关键！！！！！！如果说： 1、i,j位置上的字符没问题，但四个方向返回的都是False 2、i,j位置上的字符有问题\r\n",
    "    #则要返回False给上一层，而且要把i,j位置上的内容从“-”复原到原来的字符\r\n",
    "    if not result:\r\n",
    "        board[i][j]=cur_char\r\n",
    "    return result\r\n",
    "\r\n",
    "row_num=len(board)\r\n",
    "col_num=len(board[0])\r\n",
    "\r\n",
    "for i in range(row_num):\r\n",
    "    for j in range(col_num):\r\n",
    "        result=DFS(i,j,\"\")\r\n",
    "        if result:break\r\n",
    "    if result: break\r\n",
    "\r\n",
    "result"
   ]
  },
  {
   "cell_type": "code",
   "execution_count": 17,
   "metadata": {},
   "outputs": [
    {
     "name": "stdout",
     "output_type": "stream",
     "text": [
      "0\n",
      "1\n"
     ]
    }
   ],
   "source": [
    "def test(i,j):\r\n",
    "    a=i+1\r\n",
    "\r\n",
    "for i in range(2):\r\n",
    "    test(i,i)\r\n",
    "    print(i)"
   ]
  }
 ],
 "metadata": {
  "kernelspec": {
   "display_name": "Python 3",
   "language": "python",
   "name": "python3"
  },
  "language_info": {
   "codemirror_mode": {
    "name": "ipython",
    "version": 3
   },
   "file_extension": ".py",
   "mimetype": "text/x-python",
   "name": "python",
   "nbconvert_exporter": "python",
   "pygments_lexer": "ipython3",
   "version": "3.7.3"
  },
  "orig_nbformat": 2
 },
 "nbformat": 4,
 "nbformat_minor": 2
}